{
  "nbformat": 4,
  "nbformat_minor": 0,
  "metadata": {
    "colab": {
      "name": "Tensorboard Introduction.ipynb",
      "provenance": [],
      "authorship_tag": "ABX9TyPZ74csUJV2z/k5fx1Ii/Zj",
      "include_colab_link": true
    },
    "kernelspec": {
      "name": "python3",
      "display_name": "Python 3"
    }
  },
  "cells": [
    {
      "cell_type": "markdown",
      "metadata": {
        "id": "view-in-github",
        "colab_type": "text"
      },
      "source": [
        "<a href=\"https://colab.research.google.com/github/srujanperam/dl_1/blob/main/notebooks/Tensorboard_Introduction.ipynb\" target=\"_parent\"><img src=\"https://colab.research.google.com/assets/colab-badge.svg\" alt=\"Open In Colab\"/></a>"
      ]
    },
    {
      "cell_type": "code",
      "metadata": {
        "id": "vbn3LoUmmait"
      },
      "source": [
        "import tensorflow as tf\n",
        "from tensorflow import keras\n",
        "import matplotlib.pyplot as plt \n",
        "import numpy as np"
      ],
      "execution_count": 1,
      "outputs": []
    },
    {
      "cell_type": "code",
      "metadata": {
        "colab": {
          "base_uri": "https://localhost:8080/"
        },
        "id": "8ZxLhnG7ml9Z",
        "outputId": "aa9bb392-b034-4829-92a2-47601c5504f0"
      },
      "source": [
        "(X_train, y_train) , (X_test, y_test) = keras.datasets.mnist.load_data()"
      ],
      "execution_count": 2,
      "outputs": [
        {
          "output_type": "stream",
          "text": [
            "Downloading data from https://storage.googleapis.com/tensorflow/tf-keras-datasets/mnist.npz\n",
            "11493376/11490434 [==============================] - 0s 0us/step\n"
          ],
          "name": "stdout"
        }
      ]
    },
    {
      "cell_type": "code",
      "metadata": {
        "colab": {
          "base_uri": "https://localhost:8080/"
        },
        "id": "JwgP35ZimoCJ",
        "outputId": "54b028d7-1b71-4d38-c62f-842ab27ac2cf"
      },
      "source": [
        "len(X_train)"
      ],
      "execution_count": 3,
      "outputs": [
        {
          "output_type": "execute_result",
          "data": {
            "text/plain": [
              "60000"
            ]
          },
          "metadata": {
            "tags": []
          },
          "execution_count": 3
        }
      ]
    },
    {
      "cell_type": "code",
      "metadata": {
        "colab": {
          "base_uri": "https://localhost:8080/"
        },
        "id": "vxGGDvk9mpe0",
        "outputId": "927be13b-5573-4206-8b8a-a7ac4bb8cc35"
      },
      "source": [
        "len(X_test)"
      ],
      "execution_count": 4,
      "outputs": [
        {
          "output_type": "execute_result",
          "data": {
            "text/plain": [
              "10000"
            ]
          },
          "metadata": {
            "tags": []
          },
          "execution_count": 4
        }
      ]
    },
    {
      "cell_type": "code",
      "metadata": {
        "colab": {
          "base_uri": "https://localhost:8080/"
        },
        "id": "YIhebKUtmqsB",
        "outputId": "f57ad282-10ce-4dcf-e897-328545639254"
      },
      "source": [
        "X_train[0].shape"
      ],
      "execution_count": 5,
      "outputs": [
        {
          "output_type": "execute_result",
          "data": {
            "text/plain": [
              "(28, 28)"
            ]
          },
          "metadata": {
            "tags": []
          },
          "execution_count": 5
        }
      ]
    },
    {
      "cell_type": "code",
      "metadata": {
        "colab": {
          "base_uri": "https://localhost:8080/",
          "height": 292
        },
        "id": "KKPd-mjqmsU4",
        "outputId": "aab448d9-f3c3-4759-a1ef-95e8e12d14ec"
      },
      "source": [
        "plt.matshow(X_train[0])"
      ],
      "execution_count": 6,
      "outputs": [
        {
          "output_type": "execute_result",
          "data": {
            "text/plain": [
              "<matplotlib.image.AxesImage at 0x7fe88f54ebe0>"
            ]
          },
          "metadata": {
            "tags": []
          },
          "execution_count": 6
        },
        {
          "output_type": "display_data",
          "data": {
            "image/png": "[encoded data removed]",
            "text/plain": [
              "<Figure size 288x288 with 1 Axes>"
            ]
          },
          "metadata": {
            "tags": [],
            "needs_background": "light"
          }
        }
      ]
    },
    {
      "cell_type": "code",
      "metadata": {
        "colab": {
          "base_uri": "https://localhost:8080/"
        },
        "id": "bJcsE7HQmt9i",
        "outputId": "62451d15-beb7-42bd-cad8-25a0f0952d97"
      },
      "source": [
        "y_train[0]"
      ],
      "execution_count": 7,
      "outputs": [
        {
          "output_type": "execute_result",
          "data": {
            "text/plain": [
              "5"
            ]
          },
          "metadata": {
            "tags": []
          },
          "execution_count": 7
        }
      ]
    },
    {
      "cell_type": "code",
      "metadata": {
        "id": "FZGiuWxamvY3"
      },
      "source": [
        "X_train = X_train / 255\n",
        "X_test = X_test / 255"
      ],
      "execution_count": 8,
      "outputs": []
    },
    {
      "cell_type": "code",
      "metadata": {
        "id": "iVckv6C4mxbz"
      },
      "source": [
        "X_train_flattened = X_train.reshape(len(X_train), 28*28)\n",
        "X_test_flattened = X_test.reshape(len(X_test), 28*28)"
      ],
      "execution_count": 9,
      "outputs": []
    },
    {
      "cell_type": "code",
      "metadata": {
        "colab": {
          "base_uri": "https://localhost:8080/"
        },
        "id": "maZK92ctmzPx",
        "outputId": "7968db4e-9104-41cd-b776-b3adc1240360"
      },
      "source": [
        "X_train_flattened.shape"
      ],
      "execution_count": 10,
      "outputs": [
        {
          "output_type": "execute_result",
          "data": {
            "text/plain": [
              "(60000, 784)"
            ]
          },
          "metadata": {
            "tags": []
          },
          "execution_count": 10
        }
      ]
    },
    {
      "cell_type": "code",
      "metadata": {
        "colab": {
          "base_uri": "https://localhost:8080/"
        },
        "id": "7ucjtNvcm1aE",
        "outputId": "90840d9f-403e-4eed-917a-4213b72d95a3"
      },
      "source": [
        "model = keras.Sequential([\n",
        "    keras.layers.Flatten(input_shape=(28, 28)),\n",
        "    keras.layers.Dense(100, activation='relu'),\n",
        "    keras.layers.Dense(10, activation='sigmoid')\n",
        "])\n",
        "\n",
        "model.compile(optimizer='adam', loss='sparse_categorical_crossentropy',\n",
        "              metrics=['accuracy'])\n",
        "\n",
        "tb_callback = tf.keras.callbacks.TensorBoard(log_dir=\"logs/\", histogram_freq=1)\n",
        "\n",
        "model.fit(X_train, y_train, epochs=5, callbacks=[tb_callback])"
      ],
      "execution_count": 11,
      "outputs": [
        {
          "output_type": "stream",
          "text": [
            "Epoch 1/5\n",
            "1875/1875 [==============================] - 4s 2ms/step - loss: 0.4508 - accuracy: 0.8701\n",
            "Epoch 2/5\n",
            "1875/1875 [==============================] - 3s 2ms/step - loss: 0.1305 - accuracy: 0.9631\n",
            "Epoch 3/5\n",
            "1875/1875 [==============================] - 3s 2ms/step - loss: 0.0870 - accuracy: 0.9739\n",
            "Epoch 4/5\n",
            "1875/1875 [==============================] - 3s 2ms/step - loss: 0.0641 - accuracy: 0.9814\n",
            "Epoch 5/5\n",
            "1875/1875 [==============================] - 3s 2ms/step - loss: 0.0491 - accuracy: 0.9857\n"
          ],
          "name": "stdout"
        },
        {
          "output_type": "execute_result",
          "data": {
            "text/plain": [
              "<tensorflow.python.keras.callbacks.History at 0x7fe89714af60>"
            ]
          },
          "metadata": {
            "tags": []
          },
          "execution_count": 11
        }
      ]
    },
    {
      "cell_type": "code",
      "metadata": {
        "colab": {
          "base_uri": "https://localhost:8080/"
        },
        "id": "ttzT_24Qm6zc",
        "outputId": "444be4fa-fd07-4a0e-ef6e-43733acb61dd"
      },
      "source": [
        "model.get_weights() "
      ],
      "execution_count": 12,
      "outputs": [
        {
          "output_type": "execute_result",
          "data": {
            "text/plain": [
              "[array([[ 0.01805273, -0.05661875,  0.07411072, ..., -0.05119574,\n",
              "          0.0794062 , -0.07445773],\n",
              "        [ 0.06469814,  0.00991191, -0.08202749, ...,  0.06937601,\n",
              "         -0.06898837,  0.01817042],\n",
              "        [ 0.03693796, -0.00657899,  0.04855683, ..., -0.05123691,\n",
              "          0.05654505, -0.0686969 ],\n",
              "        ...,\n",
              "        [ 0.0299973 ,  0.06483123, -0.02529969, ..., -0.0484047 ,\n",
              "          0.07208276, -0.01590378],\n",
              "        [-0.04051372, -0.02462807, -0.07728793, ..., -0.07275879,\n",
              "          0.00403377, -0.00466569],\n",
              "        [ 0.05213495,  0.05527303, -0.02469347, ...,  0.03468458,\n",
              "         -0.06148032,  0.01203568]], dtype=float32),\n",
              " array([-1.73620023e-02, -1.07955106e-01,  3.52755524e-02,  4.65713441e-02,\n",
              "        -1.51795194e-01, -7.89800733e-02,  8.85757525e-03,  3.21683697e-02,\n",
              "         1.95406988e-01,  1.00462668e-01,  9.46148261e-02,  1.23124056e-01,\n",
              "         1.31431118e-01, -8.95141363e-02,  1.68295860e-01, -2.15107612e-02,\n",
              "         2.26431788e-04,  2.19007414e-02, -2.02666484e-02,  1.22841723e-01,\n",
              "         5.70986122e-02,  2.05563121e-02,  7.40026757e-02, -8.14684182e-02,\n",
              "         7.77636142e-03, -1.05874330e-01, -1.23087324e-01,  1.53377235e-01,\n",
              "         1.24776535e-01, -1.65090691e-02,  1.48814619e-01, -5.43813035e-02,\n",
              "        -7.16018677e-02, -2.24743765e-02,  8.88784230e-02,  2.53544562e-02,\n",
              "         1.68884724e-01, -9.22431722e-02,  5.90181276e-02,  1.28946573e-01,\n",
              "        -4.75274697e-02, -4.45078500e-02,  3.98775972e-02,  4.60954010e-03,\n",
              "         7.62563348e-02,  3.43441926e-02,  1.46745786e-01, -2.77139209e-02,\n",
              "        -6.93496093e-02, -1.40681928e-02, -6.28289506e-02,  2.53651738e-02,\n",
              "         4.39841300e-02,  1.54610425e-02, -1.69127679e-03, -4.08274084e-02,\n",
              "        -1.54381497e-02,  3.25149447e-02,  1.81596339e-01,  1.38167366e-01,\n",
              "         7.52898753e-02,  9.61870607e-03,  1.61323771e-01, -5.45905828e-02,\n",
              "         7.40532344e-03, -3.18659702e-04,  3.67301628e-02,  9.67135131e-02,\n",
              "        -6.15988635e-02,  8.77936780e-02,  2.18160842e-02,  6.58722445e-02,\n",
              "         5.08081503e-02,  8.14038590e-02,  1.66826844e-01,  1.44292144e-02,\n",
              "        -5.09012453e-02, -6.17286861e-02,  4.42204662e-02,  2.65293717e-02,\n",
              "        -2.72221155e-02,  4.32886668e-02,  1.13690108e-01,  7.24524558e-02,\n",
              "         8.09847191e-02,  4.24769521e-02,  1.29405215e-01,  2.01216757e-01,\n",
              "         1.85687333e-01,  6.46207631e-02, -1.31477863e-01, -8.69977623e-02,\n",
              "         1.55715644e-01,  1.20120890e-01, -9.46519151e-02,  4.81654629e-02,\n",
              "         2.33788371e-01, -8.13904628e-02,  1.61253139e-02,  1.23417884e-01],\n",
              "       dtype=float32),\n",
              " array([[ 1.75824597e-01, -3.00167292e-01, -5.74243069e-02,\n",
              "          7.95840099e-02,  1.66858420e-01, -1.56974882e-01,\n",
              "         -2.75382757e-01, -1.12646157e-02,  1.34592101e-01,\n",
              "          2.12541953e-01],\n",
              "        [ 1.73457652e-01, -5.08147538e-01,  1.31634265e-01,\n",
              "          1.01003282e-01,  6.40850440e-02, -1.43840566e-01,\n",
              "          1.84635088e-01, -9.25044119e-02,  6.66656941e-02,\n",
              "          8.83407369e-02],\n",
              "        [ 1.95728943e-01,  3.34884197e-01,  1.10252693e-01,\n",
              "         -1.54559255e-01,  4.29426700e-01, -5.16517520e-01,\n",
              "         -2.43796059e-03,  4.28795516e-01, -3.94567162e-01,\n",
              "         -1.07398920e-01],\n",
              "        [ 3.01366776e-01, -3.75894696e-01,  3.18052202e-01,\n",
              "         -2.03312650e-01,  1.52327821e-01, -1.92043960e-01,\n",
              "          5.41163534e-02, -6.06673539e-01, -3.32641184e-01,\n",
              "         -4.23930824e-01],\n",
              "        [-3.71709883e-01,  8.70210603e-02,  1.64062068e-01,\n",
              "          3.74479294e-01, -5.29374897e-01, -1.55095354e-01,\n",
              "         -3.04009765e-01,  2.85822034e-01,  1.41191646e-01,\n",
              "         -2.47582346e-01],\n",
              "        [-2.27549091e-01,  1.03636540e-01,  5.29126465e-01,\n",
              "          1.14211964e-03, -7.24988580e-01, -4.73721266e-01,\n",
              "         -1.00486644e-01,  3.55264515e-01,  3.73111069e-01,\n",
              "         -3.32494497e-01],\n",
              "        [-1.81352153e-01,  4.20953125e-01,  2.13448003e-01,\n",
              "          2.57408440e-01,  5.95482826e-01, -1.01155186e+00,\n",
              "         -4.30958331e-01,  2.05720455e-04, -2.57016987e-01,\n",
              "         -4.39541042e-01],\n",
              "        [-2.21744597e-01,  7.79810026e-02, -3.74266366e-03,\n",
              "          2.35607833e-01,  9.49801579e-02,  2.09101588e-01,\n",
              "         -6.14770234e-01, -2.65910365e-02,  1.34362385e-01,\n",
              "          1.92150205e-01],\n",
              "        [-2.64215171e-01, -4.48522776e-01, -4.24415767e-02,\n",
              "          6.47645518e-02,  2.73929417e-01,  3.62036794e-01,\n",
              "         -5.59073150e-01,  2.86603570e-01, -5.28834283e-01,\n",
              "          1.92228615e-01],\n",
              "        [-2.42870405e-01,  2.45157462e-02, -9.73309427e-02,\n",
              "         -2.10213989e-01,  1.77211493e-01, -2.99285889e-01,\n",
              "          4.55630571e-02,  4.50829277e-03,  2.90803220e-02,\n",
              "         -4.58023064e-02],\n",
              "        [-4.92756039e-01,  1.89498425e-01,  2.20631883e-02,\n",
              "         -3.01523417e-01,  2.05869794e-01,  1.13805331e-01,\n",
              "         -6.49377331e-02, -1.02589965e-01,  1.88605398e-01,\n",
              "         -2.97409654e-01],\n",
              "        [-1.65859967e-01,  8.06846097e-02, -3.75087559e-01,\n",
              "          5.95342517e-02, -8.26116949e-02,  1.28955156e-01,\n",
              "         -4.77455646e-01,  9.89032611e-02,  1.93815559e-01,\n",
              "          2.33841851e-01],\n",
              "        [ 2.87540946e-02,  4.47656028e-02,  7.43046775e-02,\n",
              "         -3.30826789e-01, -4.30689305e-01,  6.26590788e-01,\n",
              "         -3.21018130e-01, -8.47176313e-02, -5.30991852e-01,\n",
              "         -5.11496589e-02],\n",
              "        [ 1.02822036e-01,  2.26435602e-01,  3.28974664e-01,\n",
              "          1.51953131e-01, -7.04360425e-01, -4.51822728e-02,\n",
              "         -4.23968852e-01, -1.87159315e-01,  9.07559544e-02,\n",
              "         -1.36591401e-02],\n",
              "        [-5.34187138e-01,  3.44675958e-01,  3.71371001e-01,\n",
              "         -1.67802632e-01,  2.71745622e-01, -7.76669523e-03,\n",
              "          1.10570841e-01, -4.84236002e-01,  9.46132392e-02,\n",
              "         -3.06624919e-01],\n",
              "        [-2.72453576e-01, -3.81490439e-02, -4.05370861e-01,\n",
              "          1.50117829e-01, -5.17560281e-02,  1.01894245e-01,\n",
              "          2.12318689e-01,  4.43082377e-02, -9.62796563e-04,\n",
              "          5.38711846e-02],\n",
              "        [ 1.47377402e-01, -3.62479091e-01, -2.94853538e-01,\n",
              "         -2.47723028e-01,  1.32091761e-01, -6.28202260e-02,\n",
              "         -1.47194743e-01, -2.84429103e-01,  1.75026581e-01,\n",
              "          7.49071091e-02],\n",
              "        [ 1.02012744e-02,  4.68492836e-01,  8.03930908e-02,\n",
              "         -7.81756401e-01,  2.38527939e-01,  4.29862179e-02,\n",
              "         -2.72643149e-01,  2.85083562e-01, -6.87666833e-01,\n",
              "         -6.69415295e-02],\n",
              "        [ 3.60381573e-01, -6.05558157e-01,  1.42272696e-01,\n",
              "         -3.38005215e-01, -5.29360175e-01, -3.47487599e-01,\n",
              "          9.81931910e-02, -3.42752814e-01,  3.04465264e-01,\n",
              "          1.75908253e-01],\n",
              "        [ 1.98154952e-02, -2.00576540e-02, -7.62100294e-02,\n",
              "         -6.69912815e-01,  3.46105665e-01, -2.07894236e-01,\n",
              "          1.18688438e-02,  5.80559932e-02, -3.37028177e-03,\n",
              "          1.01811238e-01],\n",
              "        [ 2.20489725e-02,  1.62535414e-01,  1.67670101e-01,\n",
              "         -6.89933121e-01, -7.81469718e-02, -2.17868820e-01,\n",
              "         -2.07202628e-01,  9.31606442e-02,  4.70944881e-01,\n",
              "         -6.37190759e-01],\n",
              "        [-3.31674591e-02, -2.53819346e-01,  2.33812526e-01,\n",
              "         -3.27106208e-01, -5.93453646e-01,  1.71096757e-01,\n",
              "          3.49230021e-01, -3.89356315e-01,  2.69624233e-01,\n",
              "          2.12739259e-01],\n",
              "        [-7.21914973e-03, -3.16266835e-01, -1.02982834e-01,\n",
              "          1.41189545e-01,  2.31070817e-01, -7.41737708e-02,\n",
              "          7.50052258e-02, -7.46671185e-02,  2.04019085e-01,\n",
              "          1.43271133e-01],\n",
              "        [-3.11678678e-01,  2.90698916e-01, -1.56155109e-01,\n",
              "         -2.48006552e-01, -6.69273257e-01,  5.84885716e-01,\n",
              "          4.36603397e-01,  4.62650687e-01, -2.17617422e-01,\n",
              "          1.09449230e-01],\n",
              "        [-6.30718619e-02,  4.04684186e-01,  1.53246090e-01,\n",
              "         -7.67093182e-01,  1.52684107e-01, -3.42646450e-01,\n",
              "          2.48069093e-01,  1.37712411e-03, -1.17083572e-01,\n",
              "         -4.27030176e-01],\n",
              "        [ 1.44961849e-01,  6.86924458e-02,  1.93891734e-01,\n",
              "          7.29903430e-02, -2.59618610e-01, -4.46393967e-01,\n",
              "          3.64406742e-02,  5.88104539e-02,  1.68932751e-01,\n",
              "          2.50015438e-01],\n",
              "        [ 2.49584809e-01,  1.87102064e-01, -8.36365893e-02,\n",
              "          2.71181881e-01, -5.53971410e-01, -6.63970038e-02,\n",
              "          2.54970729e-01,  1.42950729e-01, -1.31293476e-01,\n",
              "         -2.13562816e-01],\n",
              "        [-3.95895690e-01,  8.13425332e-02, -7.91153014e-01,\n",
              "          2.24338055e-01,  2.85436213e-01,  2.16900572e-01,\n",
              "         -3.93573672e-01, -6.86673224e-02,  1.13972872e-01,\n",
              "          4.95192148e-02],\n",
              "        [-2.07136169e-01, -2.38504618e-01,  1.50142405e-02,\n",
              "         -1.28324345e-01, -1.59786735e-02,  1.20381311e-01,\n",
              "          1.34880856e-01, -2.12504137e-02,  2.04388738e-01,\n",
              "          5.72798476e-02],\n",
              "        [ 1.43703967e-01, -2.44021416e-01,  3.71089093e-02,\n",
              "          7.25026801e-03, -8.24886620e-01,  2.81632960e-01,\n",
              "          2.49488100e-01, -4.67565775e-01, -1.80744622e-02,\n",
              "         -2.34303594e-01],\n",
              "        [ 1.14111332e-02, -2.82745451e-01, -3.30680251e-01,\n",
              "         -1.32624134e-01,  3.49653304e-01,  3.12315583e-01,\n",
              "          2.50887722e-01,  3.52843463e-01,  1.41797647e-01,\n",
              "         -5.07840455e-01],\n",
              "        [ 6.16766959e-02, -4.07164544e-01, -4.02705610e-01,\n",
              "         -3.94901522e-02,  3.09477270e-01, -2.72013962e-01,\n",
              "          3.80559236e-01, -3.42111498e-01, -2.92097479e-01,\n",
              "          1.72087133e-01],\n",
              "        [ 1.55345619e-01,  2.37507243e-02, -1.74253032e-01,\n",
              "          8.75528231e-02, -9.79381874e-02, -1.17742270e-01,\n",
              "          1.70092374e-01, -1.39254481e-01,  1.80667698e-01,\n",
              "         -2.46871069e-01],\n",
              "        [-5.22358298e-01, -3.06103379e-01,  8.19134563e-02,\n",
              "         -1.07485084e-02, -1.67803124e-01, -1.87516391e-01,\n",
              "         -5.66999853e-01,  7.69964010e-02, -2.19483338e-02,\n",
              "         -1.29860684e-01],\n",
              "        [-1.19744308e-01,  9.55654308e-02, -6.16495848e-01,\n",
              "         -6.01661861e-01,  2.40674525e-01,  7.58888423e-02,\n",
              "          1.92982435e-01, -2.05399945e-01, -1.80934131e-01,\n",
              "          8.65476858e-03],\n",
              "        [ 2.64575958e-01, -4.13115442e-01, -2.00414822e-01,\n",
              "          5.56704402e-02, -6.26040101e-01,  2.89111257e-01,\n",
              "         -1.03865586e-01, -5.19446492e-01, -2.38449216e-01,\n",
              "         -1.09535307e-01],\n",
              "        [-8.39926526e-02,  1.48170695e-01, -7.38248110e-01,\n",
              "         -2.52825767e-01,  4.64059830e-01,  4.78254169e-01,\n",
              "         -1.34557217e-01, -2.43919447e-01, -5.08989803e-02,\n",
              "         -4.35765713e-01],\n",
              "        [ 2.90629745e-01, -1.86544925e-01,  1.28418699e-01,\n",
              "         -3.15663904e-01, -2.14139059e-01, -2.23493770e-01,\n",
              "          2.82169312e-01, -3.38046581e-01, -2.93799788e-01,\n",
              "         -2.96792984e-01],\n",
              "        [-2.02649087e-01,  4.55508322e-01,  3.06485415e-01,\n",
              "         -1.33856699e-01,  2.34703436e-01, -2.40124881e-01,\n",
              "          3.33645165e-01,  1.53165385e-01, -2.44596571e-01,\n",
              "         -7.24304557e-01],\n",
              "        [ 1.68887749e-01, -4.32778150e-01,  5.96006155e-01,\n",
              "          1.07547179e-01, -3.37688267e-01,  4.38887089e-01,\n",
              "         -4.18609649e-01,  2.78276265e-01, -2.73256391e-01,\n",
              "         -7.00324297e-01],\n",
              "        [ 1.80829093e-01, -4.16631132e-01, -1.36386119e-02,\n",
              "         -5.47660701e-02, -2.70611465e-01, -2.70791292e-01,\n",
              "          3.25635850e-01,  1.88659713e-01, -5.45520782e-02,\n",
              "          2.90854454e-01],\n",
              "        [ 1.05089217e-01, -2.59152293e-01, -3.83485407e-01,\n",
              "          2.31504440e-01, -1.73835233e-01, -5.94980568e-02,\n",
              "          3.54469359e-01, -7.91782364e-02, -5.19405663e-01,\n",
              "          1.86690807e-01],\n",
              "        [-2.88823754e-01,  3.34085882e-01, -8.26291963e-02,\n",
              "         -1.93749830e-01, -1.70790762e-01, -9.65754807e-01,\n",
              "         -6.36576414e-01, -2.02987760e-01, -3.67936343e-01,\n",
              "          1.60070628e-01],\n",
              "        [-2.56345123e-01,  9.94965583e-02, -9.97448806e-03,\n",
              "          1.65181756e-01,  1.92313120e-01, -1.91256702e-01,\n",
              "          2.21567050e-01,  1.29956022e-01,  1.89312086e-01,\n",
              "         -6.05188124e-02],\n",
              "        [ 2.14153558e-01,  1.45583525e-01, -8.26487914e-02,\n",
              "         -2.90385425e-01, -6.90066397e-01,  3.63950908e-01,\n",
              "         -6.52759969e-02,  2.64677137e-01,  1.03923470e-01,\n",
              "          1.91252396e-01],\n",
              "        [-3.69846851e-01,  1.10251762e-01, -1.42912388e-01,\n",
              "          3.32593590e-01, -2.71700263e-01,  5.88156879e-01,\n",
              "         -2.17467129e-01, -5.70424676e-01, -1.43232301e-01,\n",
              "          3.36668313e-01],\n",
              "        [-1.81935534e-01,  4.34972435e-01,  2.88449705e-01,\n",
              "          2.06695840e-01,  2.59844154e-01, -2.93730199e-01,\n",
              "         -1.31178126e-01,  2.83997893e-01, -4.58364576e-01,\n",
              "         -7.67988026e-01],\n",
              "        [-1.75543711e-01,  1.69862583e-01,  1.91685811e-01,\n",
              "          5.36858328e-02, -2.43887812e-01, -6.27450198e-02,\n",
              "          7.25447992e-03,  1.73325837e-01,  2.02994719e-01,\n",
              "         -4.94931787e-01],\n",
              "        [ 3.14067751e-01, -1.98946580e-01,  1.05720021e-01,\n",
              "          2.21479282e-01, -3.22844349e-02,  1.23003408e-01,\n",
              "         -9.17029381e-02, -1.50921002e-01, -5.33098996e-01,\n",
              "          1.59603313e-01],\n",
              "        [ 1.55199483e-01, -2.53966600e-01,  1.43261731e-01,\n",
              "          1.56386197e-01,  4.24940199e-01,  3.34518343e-01,\n",
              "         -3.85396332e-01, -8.84895679e-03, -2.82448620e-01,\n",
              "         -8.03113505e-02],\n",
              "        [ 1.17617399e-02, -6.15817606e-01,  1.60242260e-01,\n",
              "          1.63061649e-01, -2.82283574e-02, -5.45003712e-01,\n",
              "          2.74674054e-02, -1.30640015e-01,  1.24871574e-01,\n",
              "          2.17816770e-01],\n",
              "        [-3.33338261e-01, -1.27315775e-01,  1.79366067e-01,\n",
              "          2.14213535e-01, -4.66042049e-02, -1.55783266e-01,\n",
              "         -1.99568663e-02, -2.56638259e-01,  1.75673783e-01,\n",
              "         -2.76493616e-02],\n",
              "        [ 1.26267865e-01, -2.48867989e-01,  1.20358422e-01,\n",
              "         -2.32048571e-01,  8.78292881e-03,  1.07939363e-01,\n",
              "         -1.44061610e-01, -4.15606827e-01,  1.42667174e-01,\n",
              "         -7.09485933e-02],\n",
              "        [-1.06084682e-02, -3.76638800e-01,  1.97522491e-01,\n",
              "          8.57747421e-02, -1.21919610e-01,  1.04759760e-01,\n",
              "         -3.36618692e-01,  1.60387740e-01,  1.95875719e-01,\n",
              "         -3.61624032e-01],\n",
              "        [ 6.56565130e-02, -1.02489129e-01, -4.75051790e-01,\n",
              "          3.63245726e-01, -4.63314742e-01,  1.82401538e-01,\n",
              "          1.94066629e-01, -2.26875097e-01,  7.41103888e-02,\n",
              "         -2.73942053e-01],\n",
              "        [-4.07840610e-02, -2.40283698e-01, -2.11613342e-01,\n",
              "          1.93087086e-01, -2.04084828e-01, -2.15922296e-01,\n",
              "         -4.83849496e-01,  1.22549511e-01,  3.53546403e-02,\n",
              "          1.53791368e-01],\n",
              "        [ 3.89422745e-01, -2.81043530e-01,  2.50130355e-01,\n",
              "         -3.97027671e-01,  1.16212843e-02, -4.46288377e-01,\n",
              "         -2.22007185e-02,  2.95468360e-01, -5.44623733e-01,\n",
              "         -3.54796983e-02],\n",
              "        [-1.00755505e-01, -4.14681196e-01,  9.07887742e-02,\n",
              "         -1.25324249e-01, -5.69954574e-01,  4.05580133e-01,\n",
              "          7.00837076e-02,  1.42457604e-01,  9.77168977e-02,\n",
              "         -3.62613350e-01],\n",
              "        [-1.45740002e-01, -2.28120610e-01,  3.66370887e-01,\n",
              "         -3.52020174e-01,  1.89238369e-01, -9.33086425e-02,\n",
              "          3.06075275e-01,  8.53677765e-02, -4.37856734e-01,\n",
              "          1.26452819e-01],\n",
              "        [ 3.15522879e-01, -3.00698858e-02,  6.57268241e-02,\n",
              "         -3.19339424e-01, -4.80817370e-02,  1.75276607e-01,\n",
              "         -1.78464636e-01,  3.45500618e-01, -4.46832269e-01,\n",
              "         -2.58576125e-01],\n",
              "        [-5.03549315e-02, -1.41153455e-01, -2.04267204e-01,\n",
              "         -2.07218617e-01, -6.44936711e-02,  2.18341708e-01,\n",
              "          2.18246877e-01, -3.40712100e-01,  2.40693480e-01,\n",
              "          1.65353790e-01],\n",
              "        [ 3.52400541e-01, -3.61646026e-01, -3.85519922e-01,\n",
              "         -6.12577684e-02, -3.98702770e-02,  2.91695982e-01,\n",
              "         -6.82248641e-03,  4.13456976e-01, -2.97539622e-01,\n",
              "          1.66431040e-01],\n",
              "        [ 3.49072963e-02,  6.11168027e-01,  1.00122347e-01,\n",
              "         -1.39516965e-01, -2.53292143e-01,  1.73603836e-02,\n",
              "          1.38401181e-01,  5.22383332e-01, -2.25735039e-01,\n",
              "         -5.35237432e-01],\n",
              "        [ 2.09922478e-01,  1.78645447e-01,  2.26077318e-01,\n",
              "         -2.30933994e-01, -3.57093275e-01, -4.40365970e-01,\n",
              "          2.53091156e-01,  3.71261656e-01,  1.72382921e-01,\n",
              "         -8.03818882e-01],\n",
              "        [ 2.31291652e-01,  1.49400439e-02,  9.89675671e-02,\n",
              "          1.71029329e-01, -4.45900671e-02,  1.98320240e-01,\n",
              "          1.97017878e-01, -4.91660982e-01,  2.56367803e-01,\n",
              "          2.67390199e-02],\n",
              "        [-3.41772591e-03, -1.56148057e-02,  3.38575691e-01,\n",
              "         -6.60754219e-02, -6.27150059e-01,  8.77804235e-02,\n",
              "         -3.27279687e-01, -1.59635782e-01, -1.60109892e-01,\n",
              "         -5.21265209e-01],\n",
              "        [-4.57643718e-01,  2.66817600e-01,  6.68086782e-02,\n",
              "         -2.34110400e-01, -3.28380913e-01, -1.52985334e-01,\n",
              "         -4.85948063e-02, -5.36063872e-02, -2.78042227e-01,\n",
              "          4.73262429e-01],\n",
              "        [ 1.88175544e-01,  1.35997519e-01, -8.71476114e-01,\n",
              "         -2.41434097e-01, -1.51939034e-01, -3.60583626e-02,\n",
              "          2.72208720e-01, -2.53411502e-01, -8.27686340e-02,\n",
              "          3.83369625e-01],\n",
              "        [ 1.62237018e-01, -4.25901711e-01, -3.80570769e-01,\n",
              "         -3.57190013e-01,  4.21953239e-02,  1.11374401e-01,\n",
              "          1.79720640e-01,  2.91104764e-01, -4.22618926e-01,\n",
              "          3.04786295e-01],\n",
              "        [ 2.03072444e-01,  1.88718587e-01, -3.70424390e-01,\n",
              "          2.48253971e-01, -1.22171789e-01, -2.61530638e-01,\n",
              "          9.97678787e-02,  4.40380633e-01, -6.74882531e-01,\n",
              "         -4.82216537e-01],\n",
              "        [-1.57165259e-01,  1.49377778e-01,  2.55759746e-01,\n",
              "         -2.55120873e-01,  2.78932720e-01,  8.69521052e-02,\n",
              "          2.07531914e-01,  7.80256018e-02, -6.35909796e-01,\n",
              "         -2.23341122e-01],\n",
              "        [-4.24088955e-01,  2.33980954e-01, -5.48767328e-01,\n",
              "          4.71491158e-01, -5.77629745e-01,  3.79119605e-01,\n",
              "         -5.83147585e-01, -6.03951275e-01, -7.41174340e-01,\n",
              "          4.76738857e-03],\n",
              "        [ 6.82566017e-02, -2.88090527e-01,  9.52481702e-02,\n",
              "         -2.90269614e-03, -1.54494375e-01,  1.59142166e-02,\n",
              "          3.07260841e-01, -1.47544309e-01,  1.66455492e-01,\n",
              "         -1.28185779e-01],\n",
              "        [ 1.66786194e-01, -3.88917893e-01, -7.96311274e-02,\n",
              "         -6.77267136e-03,  2.66765282e-02,  7.04165846e-02,\n",
              "         -1.50624812e-01,  6.10158034e-02,  2.08965242e-01,\n",
              "         -4.77202311e-02],\n",
              "        [-6.14683568e-01,  2.02884376e-01,  1.35649890e-01,\n",
              "         -3.72750789e-01,  3.94181430e-01,  1.93010513e-02,\n",
              "         -7.54254401e-01, -6.55096471e-02,  3.45213562e-02,\n",
              "          2.95942366e-01],\n",
              "        [-4.46195513e-01,  1.10804439e-01,  9.70648304e-02,\n",
              "         -1.16454020e-01, -3.41577441e-01, -3.17542195e-01,\n",
              "          1.62597299e-02, -5.89763701e-01,  2.12931946e-01,\n",
              "          1.71504974e-01],\n",
              "        [-2.31635332e-01, -2.94940412e-01,  1.05003804e-01,\n",
              "          3.40915442e-01, -2.93506831e-01, -2.04961255e-01,\n",
              "          1.74542949e-01,  1.37974441e-01, -2.15700224e-01,\n",
              "         -4.30342704e-01],\n",
              "        [ 9.89238694e-02,  1.04655787e-01,  2.38925606e-01,\n",
              "          1.47122890e-02, -4.34884697e-01,  6.86188638e-02,\n",
              "          7.43565336e-02, -5.11943817e-01,  2.57176816e-01,\n",
              "         -9.30873156e-02],\n",
              "        [ 2.55434632e-01, -5.24540842e-01,  6.91423640e-02,\n",
              "          3.88105661e-01, -2.53346264e-01,  1.99413896e-01,\n",
              "          1.72580913e-01,  4.49698299e-01, -5.18591762e-01,\n",
              "         -5.20152330e-01],\n",
              "        [-3.59062642e-01, -2.51894027e-01,  9.17898342e-02,\n",
              "         -8.40987191e-02, -2.58908689e-01,  1.68118533e-02,\n",
              "         -4.42397535e-01, -1.27828389e-01, -4.14143270e-03,\n",
              "          5.79377972e-02],\n",
              "        [ 1.20732717e-01, -6.18847273e-02,  2.00160921e-01,\n",
              "          2.51543105e-01, -7.11202145e-01,  1.56395897e-01,\n",
              "         -5.72250068e-01,  4.07053903e-02, -2.50945948e-02,\n",
              "          2.12674484e-01],\n",
              "        [-3.79045695e-01, -5.38969859e-02, -3.91824454e-01,\n",
              "          3.37845057e-01,  1.15252063e-01, -8.06376040e-01,\n",
              "          2.59517878e-01,  1.70516938e-01, -3.34066480e-01,\n",
              "          2.31955454e-01],\n",
              "        [ 2.38865852e-01, -1.49341419e-01,  9.04365852e-02,\n",
              "         -1.76767148e-02,  2.76631117e-01,  2.26845160e-01,\n",
              "          2.30016842e-01, -5.39763987e-01,  8.04578736e-02,\n",
              "         -1.29507750e-01],\n",
              "        [-3.24003637e-01,  1.69980928e-01, -1.13923647e-01,\n",
              "         -4.83527124e-01, -6.40536025e-02,  2.65650749e-01,\n",
              "          2.09638059e-01,  2.26227403e-01,  1.42438591e-01,\n",
              "         -1.71614274e-01],\n",
              "        [-4.97084856e-01,  1.47839472e-01, -1.81436703e-01,\n",
              "          7.22275525e-02, -1.02648981e-01,  9.99146700e-02,\n",
              "          5.88214165e-03, -8.53827298e-02,  3.02839130e-01,\n",
              "         -1.80680588e-01],\n",
              "        [ 1.17227316e-01, -3.37900490e-01, -2.28799179e-01,\n",
              "          1.43661231e-01,  1.67902187e-02,  7.63363168e-02,\n",
              "         -6.38484180e-01,  1.65179551e-01, -8.85750502e-02,\n",
              "          2.25799054e-01],\n",
              "        [-8.89036298e-01,  1.47923633e-01, -3.07122946e-01,\n",
              "          8.73716027e-02,  2.51071125e-01,  1.04011685e-01,\n",
              "         -2.55076796e-01, -3.04952651e-01, -9.27224681e-02,\n",
              "          2.06004471e-01],\n",
              "        [-2.68603951e-01, -1.57861829e-01, -5.11266477e-02,\n",
              "          3.16662371e-01, -3.09799492e-01,  3.67250621e-01,\n",
              "         -9.60147262e-01,  2.71846145e-01, -1.62597567e-01,\n",
              "          2.07084611e-01],\n",
              "        [ 1.51151910e-01,  1.30435094e-01, -1.31282061e-01,\n",
              "         -5.06286860e-01,  1.02780126e-01,  4.31868523e-01,\n",
              "         -1.13115527e-01,  1.38963595e-01,  1.48121759e-01,\n",
              "          3.69518220e-01],\n",
              "        [ 1.68678582e-01, -1.54842749e-01,  2.22255364e-01,\n",
              "         -1.84628829e-01,  3.09704155e-01, -8.24240297e-02,\n",
              "         -4.25301284e-01,  1.57775983e-01,  3.28225978e-02,\n",
              "          2.01686695e-01],\n",
              "        [-3.38556349e-01,  1.51555657e-01,  2.25922748e-01,\n",
              "          2.22454980e-01,  5.07113039e-02, -8.66518497e-01,\n",
              "         -5.75983167e-01, -1.34549782e-01,  3.93463001e-02,\n",
              "          1.10906726e-02],\n",
              "        [ 1.82848647e-01, -9.51537415e-02,  2.82923698e-01,\n",
              "          1.67672858e-01, -7.85575956e-02, -3.74523669e-01,\n",
              "         -4.57104981e-01,  1.77422658e-01, -4.51044410e-01,\n",
              "          3.22473913e-01],\n",
              "        [ 1.47211730e-01,  1.55228272e-01, -5.40070593e-01,\n",
              "         -4.45269883e-01,  2.80357480e-01,  9.51024517e-02,\n",
              "          2.73902953e-01,  9.43748653e-02,  1.00662582e-01,\n",
              "         -1.09023921e-01],\n",
              "        [-5.73126316e-01, -1.99475810e-01, -3.47442776e-02,\n",
              "         -5.13313830e-01,  4.70382690e-01,  9.31936875e-02,\n",
              "         -1.74966514e-01,  5.09786069e-01, -3.58837284e-02,\n",
              "         -2.89226443e-01],\n",
              "        [-3.84104878e-01,  3.40475470e-01,  1.73011690e-01,\n",
              "          2.70104378e-01, -3.71960461e-01, -9.28832591e-02,\n",
              "         -5.47894955e-01,  5.82128406e-01, -4.94199991e-01,\n",
              "         -9.29375648e-01],\n",
              "        [ 1.96896613e-01, -4.27970499e-01, -3.82089019e-02,\n",
              "         -3.27832103e-01, -4.12930641e-03, -3.05981994e-01,\n",
              "         -5.66253662e-02,  1.76262885e-01,  5.97597193e-03,\n",
              "          3.38405371e-03],\n",
              "        [-3.29089195e-01,  1.57442376e-01,  4.20044243e-01,\n",
              "         -1.15609854e-01,  2.27626693e-02,  3.48219782e-01,\n",
              "          2.74724811e-01, -3.62616330e-01, -2.71203220e-01,\n",
              "         -3.76431763e-01],\n",
              "        [-7.64215767e-01,  1.48288116e-01,  3.70868929e-02,\n",
              "          2.64479697e-01, -3.53686631e-01,  3.02729785e-01,\n",
              "         -6.49250984e-01, -3.40971917e-01, -3.30500692e-01,\n",
              "          2.79667944e-01],\n",
              "        [-5.05163074e-01,  3.15229416e-01, -3.52409124e-01,\n",
              "          3.82766902e-01, -4.01959568e-01,  4.15978909e-01,\n",
              "          2.87625283e-01, -3.32258373e-01, -2.13520989e-01,\n",
              "         -3.73593330e-01],\n",
              "        [-8.12961996e-01, -3.53786163e-02, -3.24120015e-01,\n",
              "          1.45210475e-01,  2.51842052e-01,  1.98314339e-01,\n",
              "         -1.77170679e-01,  8.73663872e-02,  1.65482178e-01,\n",
              "          2.00332120e-01]], dtype=float32),\n",
              " array([-0.16266763, -0.10913579, -0.02223768, -0.08398084,  0.10740682,\n",
              "         0.07944661,  0.00247661, -0.04065058,  0.14977138, -0.01621218],\n",
              "       dtype=float32)]"
            ]
          },
          "metadata": {
            "tags": []
          },
          "execution_count": 12
        }
      ]
    },
    {
      "cell_type": "code",
      "metadata": {
        "id": "h5OyTwe2m-fL"
      },
      "source": [
        "#tensorboard --logdir logs/\n",
        "# %load_ext tensorboard\n",
        "# %tensorboard --logdir logs/fit"
      ],
      "execution_count": null,
      "outputs": []
    }
  ]
}