{
  "nbformat": 4,
  "nbformat_minor": 0,
  "metadata": {
    "colab": {
      "name": "Gradient Descent.ipynb",
      "provenance": [],
      "collapsed_sections": [],
      "authorship_tag": "ABX9TyMXy938xqAKBbuyQSXrzX+i",
      "include_colab_link": true
    },
    "kernelspec": {
      "name": "python3",
      "display_name": "Python 3"
    }
  },
  "cells": [
    {
      "cell_type": "markdown",
      "metadata": {
        "id": "view-in-github",
        "colab_type": "text"
      },
      "source": [
        "<a href=\"https://colab.research.google.com/github/srujanperam/dl_1/blob/srujan_regex/Gradient_Descent.ipynb\" target=\"_parent\"><img src=\"https://colab.research.google.com/assets/colab-badge.svg\" alt=\"Open In Colab\"/></a>"
      ]
    },
    {
      "cell_type": "code",
      "metadata": {
        "id": "gWMFZMLrnZTW"
      },
      "source": [
        "import tensorflow as tf\n",
        "import pandas as pd\n",
        "from tensorflow import keras\n",
        "import matplotlib.pyplot as plt\n",
        "import numpy as np"
      ],
      "execution_count": 1,
      "outputs": []
    },
    {
      "cell_type": "code",
      "metadata": {
        "id": "uOZ7ALN4oSnK",
        "outputId": "7dce3748-de88-4c91-9f4b-c71a72e6413d",
        "colab": {
          "base_uri": "https://localhost:8080/"
        }
      },
      "source": [
        "ls"
      ],
      "execution_count": 2,
      "outputs": [
        {
          "output_type": "stream",
          "text": [
            "\u001b[0m\u001b[01;34msample_data\u001b[0m/\n"
          ],
          "name": "stdout"
        }
      ]
    },
    {
      "cell_type": "code",
      "metadata": {
        "id": "spZj5Pv3omC9",
        "outputId": "78f19a99-9945-4d3e-87c3-f00b475d16e3",
        "colab": {
          "base_uri": "https://localhost:8080/",
          "height": 35
        }
      },
      "source": [
        "pwd"
      ],
      "execution_count": 3,
      "outputs": [
        {
          "output_type": "execute_result",
          "data": {
            "application/vnd.google.colaboratory.intrinsic+json": {
              "type": "string"
            },
            "text/plain": [
              "'/content'"
            ]
          },
          "metadata": {
            "tags": []
          },
          "execution_count": 3
        }
      ]
    },
    {
      "cell_type": "code",
      "metadata": {
        "id": "KlfNdP6momAL"
      },
      "source": [
        "df = pd.read_csv('https://raw.githubusercontent.com/codebasics/py/master/DeepLearningML/6_gradient_descent/insurance_data.csv')"
      ],
      "execution_count": 4,
      "outputs": []
    },
    {
      "cell_type": "code",
      "metadata": {
        "id": "N29LdRMGol9k",
        "outputId": "c35e6845-9841-46df-84fe-1a73fbf09945",
        "colab": {
          "base_uri": "https://localhost:8080/",
          "height": 206
        }
      },
      "source": [
        "df.head()"
      ],
      "execution_count": 5,
      "outputs": [
        {
          "output_type": "execute_result",
          "data": {
            "text/html": [
              "<div>\n",
              "<style scoped>\n",
              "    .dataframe tbody tr th:only-of-type {\n",
              "        vertical-align: middle;\n",
              "    }\n",
              "\n",
              "    .dataframe tbody tr th {\n",
              "        vertical-align: top;\n",
              "    }\n",
              "\n",
              "    .dataframe thead th {\n",
              "        text-align: right;\n",
              "    }\n",
              "</style>\n",
              "<table border=\"1\" class=\"dataframe\">\n",
              "  <thead>\n",
              "    <tr style=\"text-align: right;\">\n",
              "      <th></th>\n",
              "      <th>age</th>\n",
              "      <th>affordibility</th>\n",
              "      <th>bought_insurance</th>\n",
              "    </tr>\n",
              "  </thead>\n",
              "  <tbody>\n",
              "    <tr>\n",
              "      <th>0</th>\n",
              "      <td>22</td>\n",
              "      <td>1</td>\n",
              "      <td>0</td>\n",
              "    </tr>\n",
              "    <tr>\n",
              "      <th>1</th>\n",
              "      <td>25</td>\n",
              "      <td>0</td>\n",
              "      <td>0</td>\n",
              "    </tr>\n",
              "    <tr>\n",
              "      <th>2</th>\n",
              "      <td>47</td>\n",
              "      <td>1</td>\n",
              "      <td>1</td>\n",
              "    </tr>\n",
              "    <tr>\n",
              "      <th>3</th>\n",
              "      <td>52</td>\n",
              "      <td>0</td>\n",
              "      <td>0</td>\n",
              "    </tr>\n",
              "    <tr>\n",
              "      <th>4</th>\n",
              "      <td>46</td>\n",
              "      <td>1</td>\n",
              "      <td>1</td>\n",
              "    </tr>\n",
              "  </tbody>\n",
              "</table>\n",
              "</div>"
            ],
            "text/plain": [
              "   age  affordibility  bought_insurance\n",
              "0   22              1                 0\n",
              "1   25              0                 0\n",
              "2   47              1                 1\n",
              "3   52              0                 0\n",
              "4   46              1                 1"
            ]
          },
          "metadata": {
            "tags": []
          },
          "execution_count": 5
        }
      ]
    },
    {
      "cell_type": "code",
      "metadata": {
        "id": "XfaflPfUol6q"
      },
      "source": [
        "from sklearn.model_selection import train_test_split\n",
        "X_train, X_test, y_train, y_test = train_test_split(\n",
        "    df[['age', 'affordibility']], df.bought_insurance,\n",
        "    test_size=0.2, random_state =2\n",
        ")"
      ],
      "execution_count": 6,
      "outputs": []
    },
    {
      "cell_type": "code",
      "metadata": {
        "id": "3BNwU3v1ol3v",
        "outputId": "d89cd3d8-c95f-4fa0-f1f9-eb3362f3c0fd",
        "colab": {
          "base_uri": "https://localhost:8080/",
          "height": 739
        }
      },
      "source": [
        "X_train"
      ],
      "execution_count": 7,
      "outputs": [
        {
          "output_type": "execute_result",
          "data": {
            "text/html": [
              "<div>\n",
              "<style scoped>\n",
              "    .dataframe tbody tr th:only-of-type {\n",
              "        vertical-align: middle;\n",
              "    }\n",
              "\n",
              "    .dataframe tbody tr th {\n",
              "        vertical-align: top;\n",
              "    }\n",
              "\n",
              "    .dataframe thead th {\n",
              "        text-align: right;\n",
              "    }\n",
              "</style>\n",
              "<table border=\"1\" class=\"dataframe\">\n",
              "  <thead>\n",
              "    <tr style=\"text-align: right;\">\n",
              "      <th></th>\n",
              "      <th>age</th>\n",
              "      <th>affordibility</th>\n",
              "    </tr>\n",
              "  </thead>\n",
              "  <tbody>\n",
              "    <tr>\n",
              "      <th>16</th>\n",
              "      <td>25</td>\n",
              "      <td>0</td>\n",
              "    </tr>\n",
              "    <tr>\n",
              "      <th>6</th>\n",
              "      <td>55</td>\n",
              "      <td>0</td>\n",
              "    </tr>\n",
              "    <tr>\n",
              "      <th>3</th>\n",
              "      <td>52</td>\n",
              "      <td>0</td>\n",
              "    </tr>\n",
              "    <tr>\n",
              "      <th>21</th>\n",
              "      <td>26</td>\n",
              "      <td>0</td>\n",
              "    </tr>\n",
              "    <tr>\n",
              "      <th>26</th>\n",
              "      <td>23</td>\n",
              "      <td>1</td>\n",
              "    </tr>\n",
              "    <tr>\n",
              "      <th>25</th>\n",
              "      <td>54</td>\n",
              "      <td>1</td>\n",
              "    </tr>\n",
              "    <tr>\n",
              "      <th>12</th>\n",
              "      <td>27</td>\n",
              "      <td>0</td>\n",
              "    </tr>\n",
              "    <tr>\n",
              "      <th>4</th>\n",
              "      <td>46</td>\n",
              "      <td>1</td>\n",
              "    </tr>\n",
              "    <tr>\n",
              "      <th>10</th>\n",
              "      <td>18</td>\n",
              "      <td>1</td>\n",
              "    </tr>\n",
              "    <tr>\n",
              "      <th>5</th>\n",
              "      <td>56</td>\n",
              "      <td>1</td>\n",
              "    </tr>\n",
              "    <tr>\n",
              "      <th>20</th>\n",
              "      <td>21</td>\n",
              "      <td>1</td>\n",
              "    </tr>\n",
              "    <tr>\n",
              "      <th>2</th>\n",
              "      <td>47</td>\n",
              "      <td>1</td>\n",
              "    </tr>\n",
              "    <tr>\n",
              "      <th>7</th>\n",
              "      <td>60</td>\n",
              "      <td>0</td>\n",
              "    </tr>\n",
              "    <tr>\n",
              "      <th>24</th>\n",
              "      <td>50</td>\n",
              "      <td>1</td>\n",
              "    </tr>\n",
              "    <tr>\n",
              "      <th>23</th>\n",
              "      <td>45</td>\n",
              "      <td>1</td>\n",
              "    </tr>\n",
              "    <tr>\n",
              "      <th>18</th>\n",
              "      <td>19</td>\n",
              "      <td>0</td>\n",
              "    </tr>\n",
              "    <tr>\n",
              "      <th>11</th>\n",
              "      <td>28</td>\n",
              "      <td>1</td>\n",
              "    </tr>\n",
              "    <tr>\n",
              "      <th>22</th>\n",
              "      <td>40</td>\n",
              "      <td>1</td>\n",
              "    </tr>\n",
              "    <tr>\n",
              "      <th>27</th>\n",
              "      <td>46</td>\n",
              "      <td>1</td>\n",
              "    </tr>\n",
              "    <tr>\n",
              "      <th>13</th>\n",
              "      <td>29</td>\n",
              "      <td>0</td>\n",
              "    </tr>\n",
              "    <tr>\n",
              "      <th>15</th>\n",
              "      <td>55</td>\n",
              "      <td>1</td>\n",
              "    </tr>\n",
              "    <tr>\n",
              "      <th>8</th>\n",
              "      <td>62</td>\n",
              "      <td>1</td>\n",
              "    </tr>\n",
              "  </tbody>\n",
              "</table>\n",
              "</div>"
            ],
            "text/plain": [
              "    age  affordibility\n",
              "16   25              0\n",
              "6    55              0\n",
              "3    52              0\n",
              "21   26              0\n",
              "26   23              1\n",
              "25   54              1\n",
              "12   27              0\n",
              "4    46              1\n",
              "10   18              1\n",
              "5    56              1\n",
              "20   21              1\n",
              "2    47              1\n",
              "7    60              0\n",
              "24   50              1\n",
              "23   45              1\n",
              "18   19              0\n",
              "11   28              1\n",
              "22   40              1\n",
              "27   46              1\n",
              "13   29              0\n",
              "15   55              1\n",
              "8    62              1"
            ]
          },
          "metadata": {
            "tags": []
          },
          "execution_count": 7
        }
      ]
    },
    {
      "cell_type": "code",
      "metadata": {
        "id": "UkCJWr2Gol0u",
        "outputId": "24885d94-4bfe-4281-e1ea-619f45b1980c",
        "colab": {
          "base_uri": "https://localhost:8080/"
        }
      },
      "source": [
        "len(X_train)"
      ],
      "execution_count": 8,
      "outputs": [
        {
          "output_type": "execute_result",
          "data": {
            "text/plain": [
              "22"
            ]
          },
          "metadata": {
            "tags": []
          },
          "execution_count": 8
        }
      ]
    },
    {
      "cell_type": "code",
      "metadata": {
        "id": "tl3yN1Iholxh",
        "outputId": "cc12af13-8642-46c1-f2ee-87262761303d",
        "colab": {
          "base_uri": "https://localhost:8080/"
        }
      },
      "source": [
        "df.shape"
      ],
      "execution_count": 9,
      "outputs": [
        {
          "output_type": "execute_result",
          "data": {
            "text/plain": [
              "(28, 3)"
            ]
          },
          "metadata": {
            "tags": []
          },
          "execution_count": 9
        }
      ]
    },
    {
      "cell_type": "code",
      "metadata": {
        "id": "LaOBZ84_oluQ"
      },
      "source": [
        "X_train_scaled = X_train.copy()\n",
        "X_test_scaled = X_test.copy()\n",
        "X_train_scaled['age'] = X_train_scaled['age']/100\n",
        "X_test_scaled['age'] = X_test_scaled['age']/100"
      ],
      "execution_count": 10,
      "outputs": []
    },
    {
      "cell_type": "code",
      "metadata": {
        "id": "np0WLj2xolrU"
      },
      "source": [
        "model = keras.Sequential([keras.layers.Dense(1,\n",
        "                                             input_shape=(2,),\n",
        "                                             activation='sigmoid',\n",
        "      kernel_initializer='ones', bias_initializer='zeros')])"
      ],
      "execution_count": 11,
      "outputs": []
    },
    {
      "cell_type": "code",
      "metadata": {
        "id": "1XwZiFXoolox"
      },
      "source": [
        "model.compile(optimizer='adam', loss='binary_crossentropy', metrics=['accuracy'])"
      ],
      "execution_count": 12,
      "outputs": []
    },
    {
      "cell_type": "code",
      "metadata": {
        "id": "uzL0siW-ollH",
        "outputId": "7bbcc1fe-477c-4331-dc78-a53eb76759fd",
        "colab": {
          "base_uri": "https://localhost:8080/"
        }
      },
      "source": [
        "# fro hight the epochs, runtime is taking much time, so reduced to epochs 10\n",
        "model.fit(X_train_scaled, y_train, epochs=10)"
      ],
      "execution_count": 13,
      "outputs": [
        {
          "output_type": "stream",
          "text": [
            "Epoch 1/10\n",
            "1/1 [==============================] - 0s 2ms/step - loss: 0.7146 - accuracy: 0.5000\n",
            "Epoch 2/10\n",
            "1/1 [==============================] - 0s 2ms/step - loss: 0.7142 - accuracy: 0.5000\n",
            "Epoch 3/10\n",
            "1/1 [==============================] - 0s 2ms/step - loss: 0.7138 - accuracy: 0.5000\n",
            "Epoch 4/10\n",
            "1/1 [==============================] - 0s 5ms/step - loss: 0.7135 - accuracy: 0.5000\n",
            "Epoch 5/10\n",
            "1/1 [==============================] - 0s 1ms/step - loss: 0.7131 - accuracy: 0.5000\n",
            "Epoch 6/10\n",
            "1/1 [==============================] - 0s 2ms/step - loss: 0.7127 - accuracy: 0.5000\n",
            "Epoch 7/10\n",
            "1/1 [==============================] - 0s 2ms/step - loss: 0.7123 - accuracy: 0.5000\n",
            "Epoch 8/10\n",
            "1/1 [==============================] - 0s 2ms/step - loss: 0.7119 - accuracy: 0.5000\n",
            "Epoch 9/10\n",
            "1/1 [==============================] - 0s 2ms/step - loss: 0.7116 - accuracy: 0.5000\n",
            "Epoch 10/10\n",
            "1/1 [==============================] - 0s 2ms/step - loss: 0.7112 - accuracy: 0.5000\n"
          ],
          "name": "stdout"
        },
        {
          "output_type": "execute_result",
          "data": {
            "text/plain": [
              "<tensorflow.python.keras.callbacks.History at 0x7f65d3f764e0>"
            ]
          },
          "metadata": {
            "tags": []
          },
          "execution_count": 13
        }
      ]
    },
    {
      "cell_type": "code",
      "metadata": {
        "id": "VhlRF7QcoliM",
        "outputId": "c4b468e5-916c-4d42-f20a-3751d06ca4ad",
        "colab": {
          "base_uri": "https://localhost:8080/"
        }
      },
      "source": [
        "model.evaluate(X_test_scaled,y_test)"
      ],
      "execution_count": 14,
      "outputs": [
        {
          "output_type": "stream",
          "text": [
            "1/1 [==============================] - 0s 1ms/step - loss: 0.7163 - accuracy: 0.5000\n"
          ],
          "name": "stdout"
        },
        {
          "output_type": "execute_result",
          "data": {
            "text/plain": [
              "[0.7163488268852234, 0.5]"
            ]
          },
          "metadata": {
            "tags": []
          },
          "execution_count": 14
        }
      ]
    },
    {
      "cell_type": "code",
      "metadata": {
        "id": "e20kouQZolfJ",
        "outputId": "3fd32f1d-329a-4bde-9a3c-6da12fe7e57f",
        "colab": {
          "base_uri": "https://localhost:8080/"
        }
      },
      "source": [
        "model.predict(X_test_scaled)"
      ],
      "execution_count": 15,
      "outputs": [
        {
          "output_type": "execute_result",
          "data": {
            "text/plain": [
              "array([[0.5590993 ],\n",
              "       [0.7681359 ],\n",
              "       [0.81231415],\n",
              "       [0.8297588 ],\n",
              "       [0.76100814],\n",
              "       [0.8255222 ]], dtype=float32)"
            ]
          },
          "metadata": {
            "tags": []
          },
          "execution_count": 15
        }
      ]
    },
    {
      "cell_type": "code",
      "metadata": {
        "id": "NnNLxN42olb6",
        "outputId": "8302dfad-6262-412c-a791-b72b7512f41f",
        "colab": {
          "base_uri": "https://localhost:8080/"
        }
      },
      "source": [
        "model.predict(X_test_scaled)"
      ],
      "execution_count": 16,
      "outputs": [
        {
          "output_type": "execute_result",
          "data": {
            "text/plain": [
              "array([[0.5590993 ],\n",
              "       [0.7681359 ],\n",
              "       [0.81231415],\n",
              "       [0.8297588 ],\n",
              "       [0.76100814],\n",
              "       [0.8255222 ]], dtype=float32)"
            ]
          },
          "metadata": {
            "tags": []
          },
          "execution_count": 16
        }
      ]
    },
    {
      "cell_type": "code",
      "metadata": {
        "id": "2rOFABcYolZD",
        "outputId": "ea45c6fb-e6c8-4304-8d30-ead753da0b0a",
        "colab": {
          "base_uri": "https://localhost:8080/"
        }
      },
      "source": [
        "y_test"
      ],
      "execution_count": 17,
      "outputs": [
        {
          "output_type": "execute_result",
          "data": {
            "text/plain": [
              "1     0\n",
              "0     0\n",
              "14    1\n",
              "9     1\n",
              "19    0\n",
              "17    1\n",
              "Name: bought_insurance, dtype: int64"
            ]
          },
          "metadata": {
            "tags": []
          },
          "execution_count": 17
        }
      ]
    },
    {
      "cell_type": "code",
      "metadata": {
        "id": "MUkQ7cUJolWM"
      },
      "source": [
        "coef, intercept = model.get_weights()"
      ],
      "execution_count": 18,
      "outputs": []
    },
    {
      "cell_type": "code",
      "metadata": {
        "id": "-U9dUw8UolTV",
        "outputId": "e7a2915e-ed1b-4fcd-a6f3-72420e1ebf65",
        "colab": {
          "base_uri": "https://localhost:8080/"
        }
      },
      "source": [
        "def sigmoid(x):\n",
        "        import math\n",
        "        return 1 / (1 + math.exp(-x))\n",
        "sigmoid(18)"
      ],
      "execution_count": 19,
      "outputs": [
        {
          "output_type": "execute_result",
          "data": {
            "text/plain": [
              "0.9999999847700205"
            ]
          },
          "metadata": {
            "tags": []
          },
          "execution_count": 19
        }
      ]
    },
    {
      "cell_type": "code",
      "metadata": {
        "id": "sW1MabNHolQe",
        "outputId": "4fe5bd00-a8d8-4f0e-a44f-91793b935a98",
        "colab": {
          "base_uri": "https://localhost:8080/",
          "height": 238
        }
      },
      "source": [
        "X_test"
      ],
      "execution_count": 20,
      "outputs": [
        {
          "output_type": "execute_result",
          "data": {
            "text/html": [
              "<div>\n",
              "<style scoped>\n",
              "    .dataframe tbody tr th:only-of-type {\n",
              "        vertical-align: middle;\n",
              "    }\n",
              "\n",
              "    .dataframe tbody tr th {\n",
              "        vertical-align: top;\n",
              "    }\n",
              "\n",
              "    .dataframe thead th {\n",
              "        text-align: right;\n",
              "    }\n",
              "</style>\n",
              "<table border=\"1\" class=\"dataframe\">\n",
              "  <thead>\n",
              "    <tr style=\"text-align: right;\">\n",
              "      <th></th>\n",
              "      <th>age</th>\n",
              "      <th>affordibility</th>\n",
              "    </tr>\n",
              "  </thead>\n",
              "  <tbody>\n",
              "    <tr>\n",
              "      <th>1</th>\n",
              "      <td>25</td>\n",
              "      <td>0</td>\n",
              "    </tr>\n",
              "    <tr>\n",
              "      <th>0</th>\n",
              "      <td>22</td>\n",
              "      <td>1</td>\n",
              "    </tr>\n",
              "    <tr>\n",
              "      <th>14</th>\n",
              "      <td>49</td>\n",
              "      <td>1</td>\n",
              "    </tr>\n",
              "    <tr>\n",
              "      <th>9</th>\n",
              "      <td>61</td>\n",
              "      <td>1</td>\n",
              "    </tr>\n",
              "    <tr>\n",
              "      <th>19</th>\n",
              "      <td>18</td>\n",
              "      <td>1</td>\n",
              "    </tr>\n",
              "    <tr>\n",
              "      <th>17</th>\n",
              "      <td>58</td>\n",
              "      <td>1</td>\n",
              "    </tr>\n",
              "  </tbody>\n",
              "</table>\n",
              "</div>"
            ],
            "text/plain": [
              "    age  affordibility\n",
              "1    25              0\n",
              "0    22              1\n",
              "14   49              1\n",
              "9    61              1\n",
              "19   18              1\n",
              "17   58              1"
            ]
          },
          "metadata": {
            "tags": []
          },
          "execution_count": 20
        }
      ]
    },
    {
      "cell_type": "code",
      "metadata": {
        "id": "FCDivWFBolNn",
        "outputId": "3682fe71-ccfc-4a32-f96b-f438c80a8ea2",
        "colab": {
          "base_uri": "https://localhost:8080/"
        }
      },
      "source": [
        "def prediction_function(age, affordibility):\n",
        "    weighted_sum = coef[0]*age + coef[1]*affordibility + intercept\n",
        "    return sigmoid(weighted_sum)\n",
        "\n",
        "prediction_function(.47, 1)"
      ],
      "execution_count": 21,
      "outputs": [
        {
          "output_type": "execute_result",
          "data": {
            "text/plain": [
              "0.8092767474766774"
            ]
          },
          "metadata": {
            "tags": []
          },
          "execution_count": 21
        }
      ]
    },
    {
      "cell_type": "code",
      "metadata": {
        "id": "ZnVfYFPHolKk",
        "outputId": "6cd55848-cf80-4ee6-863b-6e39f5814280",
        "colab": {
          "base_uri": "https://localhost:8080/"
        }
      },
      "source": [
        "prediction_function(.18, 1)"
      ],
      "execution_count": 22,
      "outputs": [
        {
          "output_type": "execute_result",
          "data": {
            "text/plain": [
              "0.7610081847462706"
            ]
          },
          "metadata": {
            "tags": []
          },
          "execution_count": 22
        }
      ]
    },
    {
      "cell_type": "code",
      "metadata": {
        "id": "IwHaPpnholHr",
        "outputId": "258727e4-fbd6-4e02-fce1-b7aadf1e7746",
        "colab": {
          "base_uri": "https://localhost:8080/"
        }
      },
      "source": [
        "def sigmoid_numpy(X):\n",
        "   return 1/(1+np.exp(-X))\n",
        "\n",
        "sigmoid_numpy(np.array([12,0,1]))"
      ],
      "execution_count": 23,
      "outputs": [
        {
          "output_type": "execute_result",
          "data": {
            "text/plain": [
              "array([0.99999386, 0.5       , 0.73105858])"
            ]
          },
          "metadata": {
            "tags": []
          },
          "execution_count": 23
        }
      ]
    },
    {
      "cell_type": "code",
      "metadata": {
        "id": "v-A8-VcpolEu"
      },
      "source": [
        "def log_loss(y_true, y_predicted):\n",
        "    epsilon = 1e-15\n",
        "    y_predicted_new = [max(i,epsilon) for i in y_predicted]\n",
        "    y_predicted_new = [min(i,1-epsilon) for i in y_predicted_new]\n",
        "    y_predicted_new = np.array(y_predicted_new)\n",
        "    return -np.mean(y_true*np.log(y_predicted_new)+(1-y_true)*np.log(1-y_predicted_new))"
      ],
      "execution_count": 24,
      "outputs": []
    },
    {
      "cell_type": "code",
      "metadata": {
        "id": "o3XerI_5olB7"
      },
      "source": [
        "def gradient_descent(age, affordability, y_true, epochs, loss_thresold):\n",
        "    w1 = w2 = 1\n",
        "    bias = 0\n",
        "    rate = 0.5\n",
        "    n = len(age)\n",
        "    for i in range(epochs):\n",
        "        weighted_sum = w1 * age + w2 * affordability + bias\n",
        "        y_predicted = sigmoid_numpy(weighted_sum)\n",
        "        loss = log_loss(y_true, y_predicted)\n",
        "\n",
        "        w1d = (1/n)*np.dot(np.transpose(age),(y_predicted-y_true)) \n",
        "        w2d = (1/n)*np.dot(np.transpose(affordability),(y_predicted-y_true)) \n",
        "\n",
        "        bias_d = np.mean(y_predicted-y_true)\n",
        "        w1 = w1 - rate * w1d\n",
        "        w2 = w2 - rate * w2d\n",
        "        bias = bias - rate * bias_d\n",
        "\n",
        "        print (f'Epoch:{i}, w1:{w1}, w2:{w2}, bias:{bias}, loss:{loss}')\n",
        "\n",
        "        if loss<=loss_thresold:\n",
        "            break\n",
        "\n",
        "    return w1, w2, bias"
      ],
      "execution_count": 25,
      "outputs": []
    },
    {
      "cell_type": "code",
      "metadata": {
        "id": "exwxouWJok_B",
        "outputId": "186c8493-9aae-4393-e00d-5d1e5f819d47",
        "colab": {
          "base_uri": "https://localhost:8080/"
        }
      },
      "source": [
        "gradient_descent(X_train_scaled['age'],X_train_scaled['affordibility'],y_train,1000, 0.4631)"
      ],
      "execution_count": 27,
      "outputs": [
        {
          "output_type": "stream",
          "text": [
            "Epoch:0, w1:0.973391914875179, w2:0.9484790550524685, bias:-0.11334365204477419, loss:0.714610156590683\n",
            "Epoch:1, w1:0.9526050112606814, w2:0.9061888855737805, bias:-0.21202325373024938, loss:0.6844545754122794\n",
            "Epoch:2, w1:0.9371389216394038, w2:0.8724863718378795, bias:-0.29735477734867394, loss:0.6623114062843336\n",
            "Epoch:3, w1:0.9263972300850559, w2:0.8464964034855741, bias:-0.3708685783767046, loss:0.6463299135248588\n",
            "Epoch:4, w1:0.9197530021886515, w2:0.8272363836850969, bias:-0.4341501414207024, loss:0.6349055537023248\n",
            "Epoch:5, w1:0.9165978234998884, w2:0.8137152861544186, bias:-0.48872346395231214, loss:0.6267483980102484\n",
            "Epoch:6, w1:0.9163723575035057, w2:0.804999539668341, bias:-0.5359802497218649, loss:0.6208785684684357\n",
            "Epoch:7, w1:0.9185813941347364, w2:0.8002492021116546, bias:-0.5771466732016118, loss:0.6165824439197473\n",
            "Epoch:8, w1:0.9227979840062284, w2:0.7987322635165252, bias:-0.6132761019356342, loss:0.6133562082414478\n",
            "Epoch:9, w1:0.9286609028533963, w2:0.7998249643661494, bias:-0.6452573700241379, loss:0.6108521448174771\n",
            "Epoch:10, w1:0.9358686190488851, w2:0.8030042884051622, bias:-0.6738309657576456, loss:0.6088341776838265\n",
            "Epoch:11, w1:0.9441718469380087, w2:0.8078368096906972, bias:-0.6996081967424669, loss:0.6071438947291017\n",
            "Epoch:12, w1:0.9533659204718994, w2:0.8139664580193542, bias:-0.723090454229727, loss:0.6056758621053778\n",
            "Epoch:13, w1:0.9632836449771243, w2:0.8211026351142845, bias:-0.7446870773611226, loss:0.6043602825252016\n",
            "Epoch:14, w1:0.9737889259533272, w2:0.8290093912698744, bias:-0.7647311653649121, loss:0.6031510906563414\n",
            "Epoch:15, w1:0.9847712657290106, w2:0.8374959415161981, bias:-0.783493169983567, loss:0.6020179120220726\n",
            "Epoch:16, w1:0.9961411069340184, w2:0.8464085600623791, bias:-0.8011923559334372, loss:0.600940693662132\n",
            "Epoch:17, w1:1.0078259477418539, w2:0.855623768351707, bias:-0.8180063366570519, loss:0.5999061483592272\n",
            "Epoch:18, w1:1.0197671329684783, w2:0.8650426771317321, bias:-0.8340789351359145, loss:0.598905413935753\n",
            "Epoch:19, w1:1.031917222235739, w2:0.8745863263481678, bias:-0.8495266209383465, loss:0.5979325190876422\n",
            "Epoch:20, w1:1.0442378425785437, w2:0.8841918703080088, bias:-0.8644437559243404, loss:0.5969833809878354\n",
            "Epoch:21, w1:1.0566979429974126, w2:0.8938094688922844, bias:-0.8789068539279126, loss:0.5960551517820798\n",
            "Epoch:22, w1:1.069272379734157, w2:0.9033997626998166, bias:-0.8929780306777586, loss:0.5951457931712363\n",
            "Epoch:23, w1:1.0819407720243654, w2:0.9129318276667173, bias:-0.9067077924509298, loss:0.5942537997131145\n",
            "Epoch:24, w1:1.0946865780698856, w2:0.9223815213144307, bias:-0.9201372869593358, loss:0.5933780189099878\n",
            "Epoch:25, w1:1.1074963497178143, w2:0.9317301476151894, bias:-0.9333001182492832, loss:0.5925175341988534\n",
            "Epoch:26, w1:1.1203591317975374, w2:0.9409633803076306, bias:-0.9462238089436155, loss:0.591671588786139\n",
            "Epoch:27, w1:1.133265978335584, w2:0.9500703953876823, bias:-0.9589309777205303, loss:0.5908395359891393\n",
            "Epoch:28, w1:1.146209563070398, w2:0.959043172606961, bias:-0.9714402871479306, loss:0.5900208067752747\n",
            "Epoch:29, w1:1.1591838659708276, w2:0.9678759333488286, bias:-0.9837672065000992, loss:0.5892148884599759\n",
            "Epoch:30, w1:1.1721839209645704, w2:0.9765646884454756, bias:-0.9959246256152088, loss:0.5884213106472292\n",
            "Epoch:31, w1:1.1852056129347122, w2:0.9851068745600347, bias:-1.0079233488844075, loss:0.5876396358743027\n",
            "Epoch:32, w1:1.1982455143567705, w2:0.9935010618759286, bias:-1.0197724928148943, loss:0.5868694533152984\n",
            "Epoch:33, w1:1.2113007538217244, w2:1.0017467191764915, bias:-1.0314798060416264, loss:0.5861103744769993\n",
            "Epoch:34, w1:1.224368910203527, w2:1.0098440251016851, bias:-1.0430519269750478, loss:0.5853620301955518\n",
            "Epoch:35, w1:1.237447927449927, w2:1.0177937165529838, bias:-1.0544945912998436, loss:0.5846240684855173\n",
            "Epoch:36, w1:1.2505360459585766, w2:1.0255969669796159, bias:-1.065812799146076, loss:0.5838961529502785\n",
            "Epoch:37, w1:1.2636317472917904, w2:1.0332552886994382, bias:-1.0770109498279505, loss:0.5831779615647986\n",
            "Epoch:38, w1:1.276733709619975, w2:1.0407704545512724, bias:-1.088092950496429, loss:0.5824691857078615\n",
            "Epoch:39, w1:1.2898407717956555, w2:1.0481444350958777, bias:-1.0990623038066258, loss:0.5817695293637833\n",
            "Epoch:40, w1:1.30295190437154, w2:1.055379348323138, bias:-1.1099221787001086, loss:0.5810787084413802\n",
            "Epoch:41, w1:1.3160661862067795, w2:1.0624774194185098, bias:-1.1206754675979975, loss:0.5803964501760166\n",
            "Epoch:42, w1:1.329182785571344, w2:1.0694409486206242, bias:-1.1313248326545782, loss:0.5797224925922638\n",
            "Epoch:43, w1:1.3423009448720038, w2:1.0762722855869264, bias:-1.1418727432019375, loss:0.5790565840123014\n",
            "Epoch:44, w1:1.3554199682950063, w2:1.082973808993805, bias:-1.152321506098958, loss:0.578398482600142\n",
            "Epoch:45, w1:1.3685392117984614, w2:1.0895479103465535, bias:-1.1626732903627655, loss:0.5777479559349734\n",
            "Epoch:46, w1:1.381658074998283, w2:1.0959969811746544, bias:-1.1729301471913152, loss:0.5771047806090206\n",
            "Epoch:47, w1:1.3947759945806362, w2:1.1023234029488256, bias:-1.1830940262692498, loss:0.5764687418466928\n",
            "Epoch:48, w1:1.4078924389454612, w2:1.108529539185725, bias:-1.1931667890750777, loss:0.5758396331426859\n",
            "Epoch:49, w1:1.4210069038432454, w2:1.114617729310348, bias:-1.2031502197677522, loss:0.5752172559173103\n",
            "Epoch:50, w1:1.434118908813528, w2:1.1205902839299342, bias:-1.2130460341181637, loss:0.5746014191876969\n",
            "Epoch:51, w1:1.4472279942708839, w2:1.126449481240623, bias:-1.2228558868605133, loss:0.5739919392538116\n",
            "Epoch:52, w1:1.4603337191141066, w2:1.1321975643423652, bias:-1.2325813777656922, loss:0.5733886393983835\n",
            "Epoch:53, w1:1.4734356587584352, w2:1.1378367392812805, bias:-1.242224056680169, loss:0.5727913495999739\n",
            "Epoch:54, w1:1.4865334035100843, w2:1.1433691736738247, bias:-1.2517854277267026, loss:0.5721999062585144\n",
            "Epoch:55, w1:1.4996265572179723, w2:1.1487969957954631, bias:-1.2612669528252147, loss:0.5716141519326958\n",
            "Epoch:56, w1:1.5127147361501285, w2:1.1541222940393598, bias:-1.27067005466156, loss:0.5710339350886456\n",
            "Epoch:57, w1:1.525797568052401, w2:1.1593471166689815, bias:-1.2799961192072948, loss:0.5704591098593738\n",
            "Epoch:58, w1:1.5388746913552582, w2:1.1644734718033263, bias:-1.2892464978736953, loss:0.5698895358144932\n",
            "Epoch:59, w1:1.5519457545010582, w2:1.1695033275854316, bias:-1.2984225093672686, loss:0.5693250777397548\n",
            "Epoch:60, w1:1.5650104153694702, w2:1.1744386124944408, bias:-1.3075254413011135, loss:0.5687656054259572\n",
            "Epoch:61, w1:1.5780683407830087, w2:1.1792812157692663, bias:-1.3165565516060815, loss:0.5682109934668145\n",
            "Epoch:62, w1:1.5911192060780974, w2:1.1840329879181528, bias:-1.3255170697773042, loss:0.5676611210653886\n",
            "Epoch:63, w1:1.6041626947298562, w2:1.1886957412934858, bias:-1.3344081979848839, loss:0.5671158718487054\n",
            "Epoch:64, w1:1.6171984980210605, w2:1.193271250715265, bias:-1.3432311120720875, loss:0.5665751336901956\n",
            "Epoch:65, w1:1.6302263147475302, w2:1.1977612541299496, bias:-1.3519869624599694, loss:0.5660387985396197\n",
            "Epoch:66, w1:1.643245850953672, w2:1.2021674532940287, bias:-1.3606768749737943, loss:0.5655067622601414\n",
            "Epoch:67, w1:1.6562568196930814, w2:1.2064915144738102, bias:-1.3693019516037497, loss:0.5649789244722463\n",
            "Epoch:68, w1:1.6692589408100686, w2:1.2107350691546468, bias:-1.3778632712101184, loss:0.5644551884041984\n",
            "Epoch:69, w1:1.6822519407387417, w2:1.2148997147542104, bias:-1.3863618901811978, loss:0.563935460748752\n",
            "Epoch:70, w1:1.6952355523169083, w2:1.2189870153355455, bias:-1.3947988430507363, loss:0.563419651525848\n",
            "Epoch:71, w1:1.708209514612561, w2:1.2229985023165406, bias:-1.4031751430804242, loss:0.5629076739510306\n",
            "Epoch:72, w1:1.7211735727611222, w2:1.2269356751731848, bias:-1.4114917828119837, loss:0.5623994443093369\n",
            "Epoch:73, w1:1.7341274778119522, w2:1.2308000021345675, bias:-1.4197497345925914, loss:0.5618948818344233\n",
            "Epoch:74, w1:1.747070986582898, w2:1.2345929208680482, bias:-1.427949951076719, loss:0.5613939085926989\n",
            "Epoch:75, w1:1.7600038615218714, w2:1.2383158391534086, bias:-1.4360933657069401, loss:0.5608964493722505\n",
            "Epoch:76, w1:1.7729258705746291, w2:1.241970135545105, bias:-1.4441808931758247, loss:0.5604024315763534\n",
            "Epoch:77, w1:1.785836787058062, w2:1.2455571600219826, bias:-1.4522134298706917, loss:0.5599117851213667\n",
            "Epoch:78, w1:1.7987363895384259, w2:1.2490782346240141, bias:-1.4601918543027046, loss:0.559424442338827\n",
            "Epoch:79, w1:1.811624461714035, w2:1.25253465407578, bias:-1.468117027521562, loss:0.5589403378815603\n",
            "Epoch:80, w1:1.8245007923020191, w2:1.2559276863965347, bias:-1.475989793516848, loss:0.5584594086336356\n",
            "Epoch:81, w1:1.8373651749288071, w2:1.2592585734968051, bias:-1.4838109796069485, loss:0.557981593624002\n",
            "Epoch:82, w1:1.8502174080240517, w2:1.2625285317615424, bias:-1.4915813968163174, loss:0.5575068339436439\n",
            "Epoch:83, w1:1.8630572947177524, w2:1.2657387526199162, bias:-1.4993018402417688, loss:0.5570350726661117\n",
            "Epoch:84, w1:1.8758846427403677, w2:1.2688904031018842, bias:-1.5069730894083866, loss:0.5565662547712792\n",
            "Epoch:85, w1:1.8886992643257352, w2:1.271984626381712, bias:-1.5145959086155734, loss:0.5561003270721915\n",
            "Epoch:86, w1:1.9015009761166433, w2:1.2750225423086456, bias:-1.522171047273701, loss:0.5556372381448736\n",
            "Epoch:87, w1:1.9142895990729158, w2:1.2780052479249588, bias:-1.529699240231775, loss:0.5551769382609729\n",
            "Epoch:88, w1:1.9270649583818886, w2:1.280933817971618, bias:-1.5371812080964895, loss:0.5547193793231154\n",
            "Epoch:89, w1:1.939826883371167, w2:1.2838093053818163, bias:-1.544617657543006, loss:0.5542645148028625\n",
            "Epoch:90, w1:1.9525752074235685, w2:1.286632741762635, bias:-1.5520092816177722, loss:0.553812299681159\n",
            "Epoch:91, w1:1.965309767894162, w2:1.2894051378651001, bias:-1.559356760033663, loss:0.5533626903911637\n",
            "Epoch:92, w1:1.9780304060293221, w2:1.2921274840428973, bias:-1.5666607594577102, loss:0.55291564476337\n",
            "Epoch:93, w1:1.9907369668877246, w2:1.294800750700018, bias:-1.5739219337916666, loss:0.552471121972912\n",
            "Epoch:94, w1:2.003429299263216, w2:1.2974258887275993, bias:-1.581140924445638, loss:0.5520290824889722\n",
            "Epoch:95, w1:2.0161072556094926, w2:1.3000038299302241, bias:-1.5883183606050009, loss:0.5515894880261978\n",
            "Epoch:96, w1:2.028770691966529, w2:1.3025354874419448, bias:-1.595454859490811, loss:0.5511523014980463\n",
            "Epoch:97, w1:2.041419467888704, w2:1.3050217561322863, bias:-1.6025510266138985, loss:0.5507174869719769\n",
            "Epoch:98, w1:2.054053446374567, w2:1.3074635130024839, bias:-1.6096074560228395, loss:0.5502850096264117\n",
            "Epoch:99, w1:2.066672493798198, w2:1.3098616175722038, bias:-1.6166247305459767, loss:0.5498548357093971\n",
            "Epoch:100, w1:2.0792764798421137, w2:1.3122169122569924, bias:-1.6236034220276632, loss:0.5494269324988902\n",
            "Epoch:101, w1:2.091865277431676, w2:1.3145302227366902, bias:-1.6305440915588931, loss:0.5490012682646057\n",
            "Epoch:102, w1:2.1044387626709584, w2:1.316802358315047, bias:-1.637447289702473, loss:0.5485778122313604\n",
            "Epoch:103, w1:2.1169968147800278, w2:1.3190341122707645, bias:-1.644313556712888, loss:0.5481565345438509\n",
            "Epoch:104, w1:2.129539316033609, w2:1.321226262200189, bias:-1.6511434227510071, loss:0.5477374062328088\n",
            "Epoch:105, w1:2.142066151701087, w2:1.323379570351872, bias:-1.657937408093769, loss:0.5473203991824742\n",
            "Epoch:106, w1:2.1545772099878158, w2:1.32549478395321, bias:-1.664696023338981, loss:0.5469054860993369\n",
            "Epoch:107, w1:2.1670723819776954, w2:1.3275726355293682, bias:-1.671419769605367, loss:0.5464926404820908\n",
            "Epoch:108, w1:2.1795515615769867, w2:1.3296138432146904, bias:-1.6781091387279874, loss:0.546081836592755\n",
            "Epoch:109, w1:2.1920146454593303, w2:1.3316191110567908, bias:-1.6847646134491547, loss:0.5456730494289118\n",
            "Epoch:110, w1:2.204461533011936, w2:1.3335891293135158, bias:-1.691386667604965, loss:0.5452662546970164\n",
            "Epoch:111, w1:2.216892126282918, w2:1.3355245747429625, bias:-1.697975766307557, loss:0.5448614287867405\n",
            "Epoch:112, w1:2.22930632992974, w2:1.3374261108867331, bias:-1.7045323661232155, loss:0.5444585487462971\n",
            "Epoch:113, w1:2.2417040511687483, w2:1.3392943883466015, bias:-1.7110569152464208, loss:0.5440575922587217\n",
            "Epoch:114, w1:2.254085199725759, w2:1.341130045054761, bias:-1.717549853669955, loss:0.5436585376190565\n",
            "Epoch:115, w1:2.26644968778768, w2:1.342933706537819, bias:-1.7240116133511627, loss:0.5432613637124128\n",
            "Epoch:116, w1:2.2787974299551355, w2:1.3447059861747015, bias:-1.730442618374467, loss:0.5428660499928711\n",
            "Epoch:117, w1:2.2911283431960725, w2:1.346447485448621, bias:-1.7368432851102351, loss:0.5424725764631866\n",
            "Epoch:118, w1:2.303442346800323, w2:1.3481587941932633, bias:-1.7432140223700883, loss:0.5420809236552677\n",
            "Epoch:119, w1:2.3157393623350995, w2:1.3498404908333397, bias:-1.749555231558744, loss:0.541691072611399\n",
            "Epoch:120, w1:2.328019313601399, w2:1.3514931426196475, bias:-1.7558673068224802, loss:0.5413030048661741\n",
            "Epoch:121, w1:2.340282126591299, w2:1.3531173058587818, bias:-1.7621506351943055, loss:0.5409167024291182\n",
            "Epoch:122, w1:2.352527729446116, w2:1.3547135261376322, bias:-1.768405596735918, loss:0.5405321477679628\n",
            "Epoch:123, w1:2.3647560524154136, w2:1.3562823385427973, bias:-1.774632564676534, loss:0.5401493237925584\n",
            "Epoch:124, w1:2.3769670278168333, w2:1.357824267875047, bias:-1.7808319055486628, loss:0.5397682138393898\n",
            "Epoch:125, w1:2.389160589996734, w2:1.3593398288589553, bias:-1.7870039793209052, loss:0.5393888016566769\n",
            "Epoch:126, w1:2.401336675291618, w2:1.3608295263478287, bias:-1.7931491395278485, loss:0.5390110713900352\n",
            "Epoch:127, w1:2.4134952219903245, w2:1.3622938555240443, bias:-1.7992677333971294, loss:0.5386350075686749\n",
            "Epoch:128, w1:2.425636170296978, w2:1.3637333020949158, bias:-1.8053601019737353, loss:0.538260595092117\n",
            "Epoch:129, w1:2.437759462294666, w2:1.3651483424841993, bias:-1.81142658024161, loss:0.5378878192174084\n",
            "Epoch:130, w1:2.449865041909832, w2:1.3665394440193441, bias:-1.8174674972426321, loss:0.5375166655468119\n",
            "Epoch:131, w1:2.461952854877376, w2:1.3679070651145997, bias:-1.8234831761930261, loss:0.5371471200159585\n",
            "Epoch:132, w1:2.4740228487064315, w2:1.3692516554500762, bias:-1.8294739345972737, loss:0.5367791688824387\n",
            "Epoch:133, w1:2.4860749726468128, w2:1.3705736561468633, bias:-1.8354400843595804, loss:0.5364127987148204\n",
            "Epoch:134, w1:2.4981091776561186, w2:1.3718734999383009, bias:-1.84138193189296, loss:0.5360479963820728\n",
            "Epoch:135, w1:2.5101254163674707, w2:1.3731516113374986, bias:-1.8472997782259928, loss:0.5356847490433841\n",
            "Epoch:136, w1:2.522123643057878, w2:1.3744084068011961, bias:-1.8531939191073112, loss:0.5353230441383559\n",
            "Epoch:137, w1:2.534103813617212, w2:1.3756442948900511, bias:-1.8590646451078725, loss:0.5349628693775581\n",
            "Epoch:138, w1:2.546065885517776, w2:1.3768596764254462, bias:-1.8649122417210642, loss:0.5346042127334374\n",
            "Epoch:139, w1:2.558009817784463, w2:1.3780549446428958, bias:-1.8707369894606989, loss:0.534247062431555\n",
            "Epoch:140, w1:2.569935570965477, w2:1.379230485342138, bias:-1.8765391639569453, loss:0.5338914069421522\n",
            "Epoch:141, w1:2.58184310710362, w2:1.3803866770339894, bias:-1.882319036050246, loss:0.5335372349720221\n",
            "Epoch:142, w1:2.5937323897081184, w2:1.381523891084043, bias:-1.8880768718832672, loss:0.5331845354566821\n",
            "Epoch:143, w1:2.6056033837269887, w2:1.3826424918532836, bias:-1.893812932990929, loss:0.5328332975528323\n",
            "Epoch:144, w1:2.6174560555199227, w2:1.383742836835695, bias:-1.8995274763885575, loss:0.5324835106310899\n",
            "Epoch:145, w1:2.6292903728316834, w2:1.384825276792932, bias:-1.9052207546582056, loss:0.5321351642689899\n",
            "Epoch:146, w1:2.6411063047660046, w2:1.3858901558861254, bias:-1.9108930160331836, loss:0.5317882482442396\n",
            "Epoch:147, w1:2.6529038217599767, w2:1.386937811804888, bias:-1.91654450448084, loss:0.5314427525282217\n",
            "Epoch:148, w1:2.664682895558913, w2:1.3879685758935913, bias:-1.922175459783635, loss:0.53109866727973\n",
            "Epoch:149, w1:2.6764434991916857, w2:1.3889827732749727, bias:-1.9277861176185427, loss:0.5307559828389367\n",
            "Epoch:150, w1:2.6881856069465204, w2:1.3899807229711387, bias:-1.9333767096348242, loss:0.5304146897215755\n",
            "Epoch:151, w1:2.69990919434724, w2:1.3909627380220264, bias:-1.9389474635302044, loss:0.5300747786133381\n",
            "Epoch:152, w1:2.711614238129949, w2:1.3919291256013788, bias:-1.9444986031254927, loss:0.5297362403644702\n",
            "Epoch:153, w1:2.723300716220148, w2:1.3928801871302967, bias:-1.9500303484376802, loss:0.5293990659845661\n",
            "Epoch:154, w1:2.734968607710273, w2:1.3938162183884195, bias:-1.9555429157515485, loss:0.5290632466375492\n",
            "Epoch:155, w1:2.7466178928376435, w2:1.3947375096227932, bias:-1.961036517689825, loss:0.5287287736368337\n",
            "Epoch:156, w1:2.75824855296282, w2:1.3956443456544763, bias:-1.9665113632819147, loss:0.5283956384406602\n",
            "Epoch:157, w1:2.7698605705483557, w2:1.3965370059829383, bias:-1.9719676580312424, loss:0.5280638326475994\n",
            "Epoch:158, w1:2.781453929137936, w2:1.3974157648882999, bias:-1.9774056039812367, loss:0.5277333479922175\n",
            "Epoch:159, w1:2.7930286133359, w2:1.398280891531465, bias:-1.9828253997799827, loss:0.5274041763408942\n",
            "Epoch:160, w1:2.8045846087871356, w2:1.3991326500521928, bias:-1.988227240743578, loss:0.5270763096877945\n",
            "Epoch:161, w1:2.8161219021573376, w2:1.3999712996651559, bias:-1.9936113189182159, loss:0.5267497401509806\n",
            "Epoch:162, w1:2.8276404811136255, w2:1.4007970947540327, bias:-1.9989778231410271, loss:0.526424459968665\n",
            "Epoch:163, w1:2.839140334305512, w2:1.4016102849636762, bias:-2.004326939099706, loss:0.5261004614955956\n",
            "Epoch:164, w1:2.850621451346215, w2:1.4024111152904035, bias:-2.009658849390946, loss:0.5257777371995692\n",
            "Epoch:165, w1:2.8620838227943053, w2:1.4031998261704484, bias:-2.014973733577717, loss:0.525456279658071\n",
            "Epoch:166, w1:2.8735274401356894, w2:1.403976653566618, bias:-2.020271768245401, loss:0.52513608155503\n",
            "Epoch:167, w1:2.8849522957659097, w2:1.4047418290531957, bias:-2.0255531270568157, loss:0.5248171356776926\n",
            "Epoch:168, w1:2.8963583829727675, w2:1.4054955798991258, bias:-2.0308179808061535, loss:0.5244994349136031\n",
            "Epoch:169, w1:2.9077456959192545, w2:1.4062381291495214, bias:-2.03606649747185, loss:0.5241829722476947\n",
            "Epoch:170, w1:2.9191142296267896, w2:1.4069696957055318, bias:-2.041298842268414, loss:0.52386774075948\n",
            "Epoch:171, w1:2.930463979958757, w2:1.4076904944026047, bias:-2.046515177697238, loss:0.5235537336203412\n",
            "Epoch:172, w1:2.9417949436043354, w2:1.4084007360871809, bias:-2.05171566359641, loss:0.5232409440909171\n",
            "Epoch:173, w1:2.953107118062617, w2:1.409100627691853, bias:-2.0569004571895477, loss:0.5229293655185787\n",
            "Epoch:174, w1:2.964400501627007, w2:1.4097903723090255, bias:-2.0620697131336807, loss:0.522618991334996\n",
            "Epoch:175, w1:2.975675093369901, w2:1.4104701692631054, bias:-2.067223583566194, loss:0.5223098150537885\n",
            "Epoch:176, w1:2.986930893127635, w2:1.4111402141812586, bias:-2.0723622181508583, loss:0.5220018302682581\n",
            "Epoch:177, w1:2.9981679014856986, w2:1.411800699062761, bias:-2.077485764122965, loss:0.5216950306492009\n",
            "Epoch:178, w1:3.0093861197642138, w2:1.412451812346976, bias:-2.0825943663335806, loss:0.5213894099427944\n",
            "Epoch:179, w1:3.0205855500036667, w2:1.4130937389799887, bias:-2.0876881672929466, loss:0.5210849619685608\n",
            "Epoch:180, w1:3.0317661949508925, w2:1.4137266604799237, bias:-2.0927673072130366, loss:0.5207816806173966\n",
            "Epoch:181, w1:3.0429280580453066, w2:1.4143507550009773, bias:-2.097831924049292, loss:0.5204795598496745\n",
            "Epoch:182, w1:3.05407114340538, w2:1.4149661973961907, bias:-2.102882153541551, loss:0.5201785936934085\n",
            "Epoch:183, w1:3.065195455815348, w2:1.41557315927899, bias:-2.107918129254189, loss:0.5198787762424826\n",
            "Epoch:184, w1:3.076301000712156, w2:1.4161718090835225, bias:-2.1129399826154853, loss:0.5195801016549414\n",
            "Epoch:185, w1:3.0873877841726345, w2:1.4167623121238109, bias:-2.1179478429562373, loss:0.5192825641513389\n",
            "Epoch:186, w1:3.0984558129008946, w2:1.4173448306517544, bias:-2.1229418375476303, loss:0.5189861580131435\n",
            "Epoch:187, w1:3.1095050942159483, w2:1.4179195239139983, bias:-2.1279220916383825, loss:0.5186908775811987\n",
            "Epoch:188, w1:3.1205356360395435, w2:1.4184865482076976, bias:-2.1328887284911806, loss:0.5183967172542338\n",
            "Epoch:189, w1:3.1315474468842113, w2:1.4190460569351977, bias:-2.137841869418419, loss:0.5181036714874302\n",
            "Epoch:190, w1:3.142540535841522, w2:1.4195982006576544, bias:-2.1427816338172576, loss:0.5178117347910313\n",
            "Epoch:191, w1:3.1535149125705466, w2:1.4201431271476166, bias:-2.147708139204012, loss:0.5175209017290026\n",
            "Epoch:192, w1:3.1644705872865178, w2:1.4206809814405914, bias:-2.1526215012478898, loss:0.5172311669177367\n",
            "Epoch:193, w1:3.1754075707496896, w2:1.4212119058856156, bias:-2.157521833804086, loss:0.5169425250248018\n",
            "Epoch:194, w1:3.186325874254391, w2:1.421736040194853, bias:-2.16240924894625, loss:0.5166549707677317\n",
            "Epoch:195, w1:3.197225509618269, w2:1.4222535214922352, bias:-2.167283856998341, loss:0.5163684989128584\n",
            "Epoch:196, w1:3.208106489171717, w2:1.4227644843611724, bias:-2.172145766565877, loss:0.5160831042741821\n",
            "Epoch:197, w1:3.218968825747491, w2:1.4232690608913454, bias:-2.176995084566596, loss:0.515798781712281\n",
            "Epoch:198, w1:3.2298125326705027, w2:1.4237673807246036, bias:-2.1818319162605384, loss:0.5155155261332542\n",
            "Epoch:199, w1:3.2406376237477876, w2:1.424259571099985, bias:-2.1866563652795614, loss:0.5152333324877042\n",
            "Epoch:200, w1:3.251444113258653, w2:1.4247457568978772, bias:-2.1914685336563022, loss:0.5149521957697487\n",
            "Epoch:201, w1:3.2622320159449907, w2:1.4252260606833356, bias:-2.1962685218525912, loss:0.5146721110160706\n",
            "Epoch:202, w1:3.27300134700176, w2:1.4257006027485777, bias:-2.2010564287873366, loss:0.5143930733049936\n",
            "Epoch:203, w1:3.283752122067636, w2:1.42616950115467, bias:-2.2058323518638847, loss:0.5141150777555921\n",
            "Epoch:204, w1:3.294484357215817, w2:1.426632871772422, bias:-2.210596386996868, loss:0.5138381195268299\n",
            "Epoch:205, w1:3.305198068944994, w2:1.427090828322506, bias:-2.215348628638552, loss:0.5135621938167254\n",
            "Epoch:206, w1:3.315893274170473, w2:1.4275434824148188, bias:-2.2200891698046874, loss:0.5132872958615463\n",
            "Epoch:207, w1:3.3265699902154533, w2:1.427990943587095, bias:-2.2248181020998854, loss:0.5130134209350294\n",
            "Epoch:208, w1:3.337228234802454, w2:1.4284333193427967, bias:-2.2295355157425147, loss:0.5127405643476258\n",
            "Epoch:209, w1:3.347868026044891, w2:1.4288707151882838, bias:-2.234241499589138, loss:0.5124687214457715\n",
            "Epoch:210, w1:3.3584893824387976, w2:1.4293032346692875, bias:-2.2389361411584936, loss:0.5121978876111792\n",
            "Epoch:211, w1:3.3690923228546867, w2:1.4297309794066961, bias:-2.2436195266550327, loss:0.5119280582601567\n",
            "Epoch:212, w1:3.3796768665295573, w2:1.4301540491316693, bias:-2.2482917409920185, loss:0.5116592288429435\n",
            "Epoch:213, w1:3.390243033059035, w2:1.4305725417200932, bias:-2.252952867814197, loss:0.5113913948430706\n",
            "Epoch:214, w1:3.400790842389649, w2:1.4309865532263897, bias:-2.2576029895200524, loss:0.511124551776741\n",
            "Epoch:215, w1:3.4113203148112436, w2:1.431396177916693, bias:-2.2622421872836447, loss:0.5108586951922282\n",
            "Epoch:216, w1:3.4218314709495194, w2:1.4318015083014066, bias:-2.266870541076049, loss:0.5105938206692954\n",
            "Epoch:217, w1:3.4323243317587018, w2:1.4322026351671506, bias:-2.2714881296863965, loss:0.5103299238186323\n",
            "Epoch:218, w1:3.442798918514338, w2:1.4325996476081144, bias:-2.27609503074253, loss:0.5100670002813095\n",
            "Epoch:219, w1:3.4532552528062177, w2:1.4329926330568252, bias:-2.2806913207312767, loss:0.5098050457282504\n",
            "Epoch:220, w1:3.4636933565314134, w2:1.4333816773143429, bias:-2.285277075018349, loss:0.5095440558597187\n",
            "Epoch:221, w1:3.4741132518874442, w2:1.4337668645798942, bias:-2.289852367867881, loss:0.5092840264048235\n",
            "Epoch:222, w1:3.4845149613655546, w2:1.434148277479957, bias:-2.2944172724616028, loss:0.5090249531210376\n",
            "Epoch:223, w1:3.49489850774411, w2:1.4345259970968036, bias:-2.2989718609176686, loss:0.5087668317937323\n",
            "Epoch:224, w1:3.5052639140821062, w2:1.4349001029965165, bias:-2.3035162043091337, loss:0.5085096582357254\n",
            "Epoch:225, w1:3.5156112037127913, w2:1.4352706732564837, bias:-2.308050372682098, loss:0.5082534282868436\n",
            "Epoch:226, w1:3.5259404002373955, w2:1.4356377844923878, bias:-2.3125744350735142, loss:0.507998137813498\n",
            "Epoch:227, w1:3.536251527518971, w2:1.436001511884694, bias:-2.3170884595286747, loss:0.5077437827082726\n",
            "Epoch:228, w1:3.5465446096763382, w2:1.436361929204651, bias:-2.3215925131183743, loss:0.507490358889524\n",
            "Epoch:229, w1:3.5568196710781335, w2:1.436719108839811, bias:-2.3260866619557636, loss:0.5072378623009954\n",
            "Epoch:230, w1:3.567076736336963, w2:1.4370731218190804, bias:-2.3305709712128944, loss:0.5069862889114397\n",
            "Epoch:231, w1:3.5773158303036565, w2:1.437424037837309, bias:-2.335045505136962, loss:0.5067356347142552\n",
            "Epoch:232, w1:3.587536978061617, w2:1.4377719252794277, bias:-2.339510327066255, loss:0.5064858957271315\n",
            "Epoch:233, w1:3.5977402049212746, w2:1.4381168512441405, bias:-2.3439654994458134, loss:0.506237067991706\n",
            "Epoch:234, w1:3.6079255364146285, w2:1.4384588815671846, bias:-2.3484110838428007, loss:0.5059891475732301\n",
            "Epoch:235, w1:3.6180929982898897, w2:1.4387980808441616, bias:-2.352847140961601, loss:0.5057421305602451\n",
            "Epoch:236, w1:3.628242616506212, w2:1.4391345124529515, bias:-2.357273730658641, loss:0.5054960130642682\n",
            "Epoch:237, w1:3.638374417228516, w2:1.4394682385757152, bias:-2.361690911956939, loss:0.5052507912194852\n",
            "Epoch:238, w1:3.6484884268224023, w2:1.4397993202204957, bias:-2.366098743060399, loss:0.5050064611824556\n",
            "Epoch:239, w1:3.6585846718491526, w2:1.4401278172424234, bias:-2.3704972813678373, loss:0.504763019131823\n",
            "Epoch:240, w1:3.668663179060817, w2:1.440453788364535, bias:-2.3748865834867625, loss:0.5045204612680336\n",
            "Epoch:241, w1:3.678723975395387, w2:1.4407772911982106, bias:-2.379266705246903, loss:0.504278783813065\n",
            "Epoch:242, w1:3.6887670879720518, w2:1.441098382263241, bias:-2.383637701713491, loss:0.5040379830101608\n",
            "Epoch:243, w1:3.698792544086537, w2:1.4414171170075263, bias:-2.3879996272003083, loss:0.5037980551235719\n",
            "Epoch:244, w1:3.708800371206523, w2:1.4417335498264179, bias:-2.392352535282495, loss:0.5035589964383056\n",
            "Epoch:245, w1:3.7187905969671453, w2:1.4420477340817073, bias:-2.3966964788091287, loss:0.5033208032598832\n",
            "Epoch:246, w1:3.7287632491665703, w2:1.4423597221202706, bias:-2.401031509915578, loss:0.5030834719140995\n",
            "Epoch:247, w1:3.7387183557616503, w2:1.4426695652923736, bias:-2.4053576800356313, loss:0.5028469987467952\n",
            "Epoch:248, w1:3.748655944863652, w2:1.4429773139696438, bias:-2.4096750399134117, loss:0.5026113801236286\n",
            "Epoch:249, w1:3.7585760447340606, w2:1.4432830175627183, bias:-2.4139836396150747, loss:0.502376612429858\n",
            "Epoch:250, w1:3.7684786837804563, w2:1.4435867245385698, bias:-2.4182835285402966, loss:0.502142692070128\n",
            "Epoch:251, w1:3.7783638905524635, w2:1.44388848243752, bias:-2.4225747554335584, loss:0.5019096154682617\n",
            "Epoch:252, w1:3.7882316937377696, w2:1.4441883378899432, bias:-2.426857368395227, loss:0.5016773790670571\n",
            "Epoch:253, w1:3.7980821221582137, w2:1.4444863366326697, bias:-2.4311314148924352, loss:0.5014459793280907\n",
            "Epoch:254, w1:3.8079152047659446, w2:1.4447825235250913, bias:-2.4353969417697723, loss:0.5012154127315243\n",
            "Epoch:255, w1:3.817730970639643, w2:1.4450769425649752, bias:-2.4396539952597793, loss:0.5009856757759168\n",
            "Epoch:256, w1:3.8275294489808136, w2:1.445369636903994, bias:-2.4439026209932577, loss:0.5007567649780422\n",
            "Epoch:257, w1:3.8373106691101393, w2:1.4456606488629729, bias:-2.448142864009395, loss:0.50052867687271\n",
            "Epoch:258, w1:3.8470746604639006, w2:1.445950019946865, bias:-2.4523747687657087, loss:0.5003014080125907\n",
            "Epoch:259, w1:3.856821452590457, w2:1.446237790859453, bias:-2.4565983791478136, loss:0.5000749549680467\n",
            "Epoch:260, w1:3.8665510751467917, w2:1.4465240015177891, bias:-2.4608137384790147, loss:0.49984931432696383\n",
            "Epoch:261, w1:3.8762635578951143, w2:1.4468086910663722, bias:-2.4650208895297285, loss:0.49962448269459253\n",
            "Epoch:262, w1:3.8859589306995264, w2:1.4470918978910714, bias:-2.4692198745267384, loss:0.499400456693386\n",
            "Epoch:263, w1:3.8956372235227428, w2:1.4473736596327993, bias:-2.4734107351622843, loss:0.4991772329628473\n",
            "Epoch:264, w1:3.9052984664228743, w2:1.4476540132009381, bias:-2.4775935126029895, loss:0.4989548081593771\n",
            "Epoch:265, w1:3.9149426895502626, w2:1.4479329947865254, bias:-2.481768247498632, loss:0.49873317895612634\n",
            "Epoch:266, w1:3.924569923144375, w2:1.4482106398752022, bias:-2.485934979990757, loss:0.498512342042851\n",
            "Epoch:267, w1:3.9341801975307527, w2:1.4484869832599296, bias:-2.4900937497211384, loss:0.4982922941257711\n",
            "Epoch:268, w1:3.9437735431180116, w2:1.4487620590534769, bias:-2.4942445958400903, loss:0.49807303192743135\n",
            "Epoch:269, w1:3.953349990394899, w2:1.4490359007006839, bias:-2.4983875570146297, loss:0.49785455218656743\n",
            "Epoch:270, w1:3.9629095699274006, w2:1.4493085409905067, bias:-2.502522671436496, loss:0.49763685165797117\n",
            "Epoch:271, w1:3.9724523123558986, w2:1.4495800120678446, bias:-2.5066499768300283, loss:0.4974199271123625\n",
            "Epoch:272, w1:3.9819782483923833, w2:1.4498503454451566, bias:-2.5107695104599026, loss:0.49720377533626187\n",
            "Epoch:273, w1:3.99148740881771, w2:1.4501195720138693, bias:-2.5148813091387336, loss:0.4969883931318648\n",
            "Epoch:274, w1:4.000979824478909, w2:1.4503877220555819, bias:-2.5189854092345407, loss:0.4967737773169215\n",
            "Epoch:275, w1:4.010455526286541, w2:1.450654825253068, bias:-2.5230818466780827, loss:0.49655992472461574\n",
            "Epoch:276, w1:4.019914545212098, w2:1.4509209107010839, bias:-2.527170656970063, loss:0.49634683220344855\n",
            "Epoch:277, w1:4.029356912285458, w2:1.4511860069169815, bias:-2.5312518751882096, loss:0.4961344966171225\n",
            "Epoch:278, w1:4.038782658592377, w2:1.451450141851132, bias:-2.535325535994225, loss:0.4959229148444298\n",
            "Epoch:279, w1:4.048191815272032, w2:1.4517133428971638, bias:-2.5393916736406204, loss:0.4957120837791406\n",
            "Epoch:280, w1:4.057584413514603, w2:1.4519756369020176, bias:-2.5434503219774243, loss:0.49550200032989605\n",
            "Epoch:281, w1:4.066960484558903, w2:1.452237050175821, bias:-2.547501514458776, loss:0.49529266142009915\n",
            "Epoch:282, w1:4.07632005969005, w2:1.452497608501589, bias:-2.5515452841494017, loss:0.4950840639878132\n",
            "Epoch:283, w1:4.085663170237179, w2:1.4527573371447489, bias:-2.5555816637309774, loss:0.4948762049856555\n",
            "Epoch:284, w1:4.094989847571196, w2:1.453016260862497, bias:-2.5596106855083787, loss:0.49466908138070004\n",
            "Epoch:285, w1:4.104300123102575, w2:1.4532744039129888, bias:-2.5636323814158226, loss:0.494462690154375\n",
            "Epoch:286, w1:4.1135940282791905, w2:1.4535317900643634, bias:-2.5676467830229015, loss:0.4942570283023674\n",
            "Epoch:287, w1:4.122871594584197, w2:1.45378844260361, bias:-2.5716539215405096, loss:0.4940520928345266\n",
            "Epoch:288, w1:4.132132853533936, w2:1.4540443843452744, bias:-2.5756538278266663, loss:0.49384788077476843\n",
            "Epoch:289, w1:4.141377836675893, w2:1.4542996376400104, bias:-2.579646532392238, loss:0.49364438916098563\n",
            "Epoch:290, w1:4.150606575586683, w2:1.454554224382981, bias:-2.58363206540656, loss:0.4934416150449532\n",
            "Epoch:291, w1:4.159819101870077, w2:1.4548081660221082, bias:-2.587610456702957, loss:0.4932395554922408\n",
            "Epoch:292, w1:4.169015447155067, w2:1.4550614835661766, bias:-2.591581735784172, loss:0.4930382075821233\n",
            "Epoch:293, w1:4.178195643093956, w2:1.4553141975927932, bias:-2.595545931827696, loss:0.4928375684074942\n",
            "Epoch:294, w1:4.1873597213605, w2:1.4555663282562057, bias:-2.5995030736910065, loss:0.4926376350747791\n",
            "Epoch:295, w1:4.196507713648068, w2:1.455817895294981, bias:-2.603453189916714, loss:0.4924384047038522\n",
            "Epoch:296, w1:4.205639651667847, w2:1.4560689180395485, bias:-2.607396308737618, loss:0.4922398744279526\n",
            "Epoch:297, w1:4.214755567147074, w2:1.4563194154196086, bias:-2.611332458081678, loss:0.4920420413936016\n",
            "Epoch:298, w1:4.223855491827302, w2:1.4565694059714098, bias:-2.615261665576892, loss:0.4918449027605233\n",
            "Epoch:299, w1:4.232939457462704, w2:1.4568189078448968, bias:-2.619183958556096, loss:0.49164845570156307\n",
            "Epoch:300, w1:4.2420074958184, w2:1.457067938810731, bias:-2.6230993640616744, loss:0.4914526974026106\n",
            "Epoch:301, w1:4.251059638668819, w2:1.4573165162671875, bias:-2.6270079088501945, loss:0.4912576250625211\n",
            "Epoch:302, w1:4.260095917796095, w2:1.4575646572469287, bias:-2.630909619396954, loss:0.4910632358930389\n",
            "Epoch:303, w1:4.269116364988488, w2:1.4578123784236585, bias:-2.634804521900454, loss:0.49086952711872234\n",
            "Epoch:304, w1:4.278121012038834, w2:1.4580596961186578, bias:-2.638692642286791, loss:0.49067649597686935\n",
            "Epoch:305, w1:4.287109890743034, w2:1.4583066263072044, bias:-2.642574006213977, loss:0.49048413971744265\n",
            "Epoch:306, w1:4.296083032898557, w2:1.4585531846248794, bias:-2.646448639076178, loss:0.49029245560299783\n",
            "Epoch:307, w1:4.305040470302983, w2:1.458799386373761, bias:-2.650316566007886, loss:0.49010144090861246\n",
            "Epoch:308, w1:4.31398223475257, w2:1.4590452465285095, bias:-2.654177811888012, loss:0.48991109292181284\n",
            "Epoch:309, w1:4.322908358040842, w2:1.4592907797423438, bias:-2.658032401343915, loss:0.48972140894250593\n",
            "Epoch:310, w1:4.3318188719572195, w2:1.4595360003529114, bias:-2.661880358755354, loss:0.48953238628290907\n",
            "Epoch:311, w1:4.340713808285657, w2:1.4597809223880567, bias:-2.6657217082583764, loss:0.4893440222674814\n",
            "Epoch:312, w1:4.349593198803322, w2:1.4600255595714837, bias:-2.669556473749138, loss:0.4891563142328568\n",
            "Epoch:313, w1:4.35845707527929, w2:1.4602699253283216, bias:-2.6733846788876567, loss:0.48896925952777637\n",
            "Epoch:314, w1:4.367305469473271, w2:1.4605140327905899, bias:-2.6772063471014995, loss:0.48878285551302186\n",
            "Epoch:315, w1:4.376138413134357, w2:1.4607578948025677, bias:-2.6810215015894086, loss:0.48859709956135156\n",
            "Epoch:316, w1:4.384955937999793, w2:1.461001523926067, bias:-2.684830165324864, loss:0.4884119890574336\n",
            "Epoch:317, w1:4.393758075793775, w2:1.4612449324456134, bias:-2.688632361059583, loss:0.4882275213977829\n",
            "Epoch:318, w1:4.402544858226269, w2:1.4614881323735351, bias:-2.692428111326961, loss:0.4880436939906977\n",
            "Epoch:319, w1:4.411316316991858, w2:1.4617311354549616, bias:-2.696217438445453, loss:0.487860504256196\n",
            "Epoch:320, w1:4.4200724837686005, w2:1.4619739531727332, bias:-2.700000364521896, loss:0.4876779496259539\n",
            "Epoch:321, w1:4.428813390216924, w2:1.4622165967522247, bias:-2.7037769114547734, loss:0.4874960275432441\n",
            "Epoch:322, w1:4.437539067978537, w2:1.4624590771660844, bias:-2.7075471009374246, loss:0.4873147354628745\n",
            "Epoch:323, w1:4.446249548675352, w2:1.4627014051388862, bias:-2.7113109544612, loss:0.4871340708511274\n",
            "Epoch:324, w1:4.45494486390845, w2:1.4629435911517032, bias:-2.7150684933185594, loss:0.4869540311857002\n",
            "Epoch:325, w1:4.463625045257044, w2:1.4631856454465975, bias:-2.7188197386061184, loss:0.48677461395564625\n",
            "Epoch:326, w1:4.472290124277479, w2:1.4634275780310317, bias:-2.722564711227643, loss:0.48659581666131546\n",
            "Epoch:327, w1:4.480940132502247, w2:1.4636693986822031, bias:-2.726303431896992, loss:0.48641763681429623\n",
            "Epoch:328, w1:4.4895751014390175, w2:1.4639111169512997, bias:-2.730035921141008, loss:0.4862400719373575\n",
            "Epoch:329, w1:4.498195062569696, w2:1.4641527421676812, bias:-2.733762199302361, loss:0.48606311956439235\n",
            "Epoch:330, w1:4.506800047349494, w2:1.4643942834429875, bias:-2.737482286542342, loss:0.4858867772403595\n",
            "Epoch:331, w1:4.515390087206023, w2:1.4646357496751727, bias:-2.741196202843608, loss:0.4857110425212291\n",
            "Epoch:332, w1:4.5239652135384025, w2:1.464877149552469, bias:-2.744903968012882, loss:0.4855359129739254\n",
            "Epoch:333, w1:4.532525457716394, w2:1.46511849155728, bias:-2.748605601683604, loss:0.4853613861762719\n",
            "Epoch:334, w1:4.541070851079542, w2:1.4653597839700039, bias:-2.752301123318538, loss:0.48518745971693616\n",
            "Epoch:335, w1:4.549601424936344, w2:1.4656010348727924, bias:-2.7559905522123374, loss:0.4850141311953761\n",
            "Epoch:336, w1:4.558117210563427, w2:1.4658422521532393, bias:-2.75967390749406, loss:0.4848413982217848\n",
            "Epoch:337, w1:4.566618239204752, w2:1.4660834435080061, bias:-2.763351208129647, loss:0.48466925841703734\n",
            "Epoch:338, w1:4.575104542070825, w2:1.4663246164463835, bias:-2.7670224729243533, loss:0.4844977094126385\n",
            "Epoch:339, w1:4.583576150337933, w2:1.466565778293788, bias:-2.7706877205251423, loss:0.4843267488506679\n",
            "Epoch:340, w1:4.592033095147391, w2:1.4668069361951992, bias:-2.774346969423035, loss:0.48415637438372966\n",
            "Epoch:341, w1:4.600475407604807, w2:1.4670480971185345, bias:-2.7780002379554234, loss:0.4839865836748988\n",
            "Epoch:342, w1:4.608903118779361, w2:1.4672892678579643, bias:-2.781647544308339, loss:0.4838173743976704\n",
            "Epoch:343, w1:4.617316259703102, w2:1.4675304550371697, bias:-2.785288906518688, loss:0.48364874423590826\n",
            "Epoch:344, w1:4.625714861370259, w2:1.4677716651125408, bias:-2.7889243424764474, loss:0.48348069088379364\n",
            "Epoch:345, w1:4.634098954736566, w2:1.4680129043763197, bias:-2.7925538699268193, loss:0.48331321204577404\n",
            "Epoch:346, w1:4.642468570718602, w2:1.468254178959688, bias:-2.796177506472355, loss:0.4831463054365153\n",
            "Epoch:347, w1:4.650823740193148, w2:1.4684954948357978, bias:-2.7997952695750388, loss:0.48297996878084865\n",
            "Epoch:348, w1:4.659164493996553, w2:1.468736857822752, bias:-2.8034071765583377, loss:0.48281419981372314\n",
            "Epoch:349, w1:4.6674908629241205, w2:1.4689782735865293, bias:-2.8070132446092164, loss:0.4826489962801562\n",
            "Epoch:350, w1:4.675802877729502, w2:1.4692197476438582, bias:-2.810613490780118, loss:0.48248435593518396\n",
            "Epoch:351, w1:4.68410056912411, w2:1.4694612853650408, bias:-2.8142079319909112, loss:0.4823202765438133\n",
            "Epoch:352, w1:4.69238396777654, w2:1.4697028919767259, bias:-2.817796585030805, loss:0.4821567558809737\n",
            "Epoch:353, w1:4.700653104312005, w2:1.4699445725646325, bias:-2.8213794665602294, loss:0.48199379173146845\n",
            "Epoch:354, w1:4.70890800931179, w2:1.4701863320762267, bias:-2.8249565931126863, loss:0.4818313818899284\n",
            "Epoch:355, w1:4.7171487133127075, w2:1.4704281753233497, bias:-2.828527981096568, loss:0.4816695241607626\n",
            "Epoch:356, w1:4.7253752468065775, w2:1.4706701069847992, bias:-2.832093646796945, loss:0.4815082163581134\n",
            "Epoch:357, w1:4.733587640239711, w2:1.4709121316088667, bias:-2.8356536063773246, loss:0.4813474563058083\n",
            "Epoch:358, w1:4.741785924012409, w2:1.4711542536158275, bias:-2.8392078758813777, loss:0.48118724183731365\n",
            "Epoch:359, w1:4.749970128478472, w2:1.4713964773003887, bias:-2.8427564712346394, loss:0.4810275707956892\n",
            "Epoch:360, w1:4.758140283944723, w2:1.4716388068340922, bias:-2.8462994082461783, loss:0.4808684410335408\n",
            "Epoch:361, w1:4.76629642067054, w2:1.4718812462676762, bias:-2.8498367026102396, loss:0.48070985041297654\n",
            "Epoch:362, w1:4.7744385688674, w2:1.472123799533394, bias:-2.853368369907859, loss:0.4805517968055595\n",
            "Epoch:363, w1:4.782566758698436, w2:1.472366470447292, bias:-2.8568944256084516, loss:0.4803942780922641\n",
            "Epoch:364, w1:4.790681020277999, w2:1.4726092627114482, bias:-2.8604148850713713, loss:0.4802372921634301\n",
            "Epoch:365, w1:4.79878138367124, w2:1.4728521799161685, bias:-2.8639297635474468, loss:0.4800808369187193\n",
            "Epoch:366, w1:4.8068678788936925, w2:1.473095225542147, bias:-2.8674390761804887, loss:0.4799249102670698\n",
            "Epoch:367, w1:4.814940535910874, w2:1.473338402962586, bias:-2.8709428380087756, loss:0.47976951012665303\n",
            "Epoch:368, w1:4.82299938463789, w2:1.4735817154452788, bias:-2.8744410639665112, loss:0.47961463442482904\n",
            "Epoch:369, w1:4.831044454939053, w2:1.473825166154656, bias:-2.8779337688852586, loss:0.47946028109810346\n",
            "Epoch:370, w1:4.83907577662751, w2:1.4740687581537946, bias:-2.881420967495352, loss:0.47930644809208417\n",
            "Epoch:371, w1:4.847093379464879, w2:1.474312494406392, bias:-2.884902674427283, loss:0.47915313336143767\n",
            "Epoch:372, w1:4.855097293160894, w2:1.474556377778705, bias:-2.8883789042130634, loss:0.47900033486984694\n",
            "Epoch:373, w1:4.86308754737306, w2:1.474800411041454, bias:-2.8918496712875665, loss:0.4788480505899677\n",
            "Epoch:374, w1:4.871064171706322, w2:1.4750445968716934, bias:-2.8953149899898465, loss:0.47869627850338714\n",
            "Epoch:375, w1:4.879027195712732, w2:1.4752889378546483, bias:-2.8987748745644337, loss:0.4785450166005814\n",
            "Epoch:376, w1:4.886976648891136, w2:1.47553343648552, bias:-2.9022293391626106, loss:0.4783942628808729\n",
            "Epoch:377, w1:4.894912560686863, w2:1.4757780951712571, bias:-2.905678397843665, loss:0.4782440153523897\n",
            "Epoch:378, w1:4.902834960491424, w2:1.4760229162322975, bias:-2.9091220645761235, loss:0.478094272032023\n",
            "Epoch:379, w1:4.9107438776422185, w2:1.4762679019042773, bias:-2.9125603532389635, loss:0.47794503094538654\n",
            "Epoch:380, w1:4.918639341422255, w2:1.4765130543397105, bias:-2.915993277622805, loss:0.47779629012677527\n",
            "Epoch:381, w1:4.92652138105987, w2:1.4767583756096387, bias:-2.9194208514310835, loss:0.4776480476191247\n",
            "Epoch:382, w1:4.934390025728462, w2:1.4770038677052502, bias:-2.9228430882812044, loss:0.4775003014739689\n",
            "Epoch:383, w1:4.94224530454623, w2:1.4772495325394719, bias:-2.926260001705675, loss:0.47735304975140225\n",
            "Epoch:384, w1:4.950087246575922, w2:1.477495371948532, bias:-2.92967160515322, loss:0.4772062905200378\n",
            "Epoch:385, w1:4.95791588082459, w2:1.4777413876934944, bias:-2.93307791198988, loss:0.4770600218569678\n",
            "Epoch:386, w1:4.965731236243349, w2:1.4779875814617665, bias:-2.936478935500088, loss:0.47691424184772285\n",
            "Epoch:387, w1:4.973533341727151, w2:1.4782339548685792, bias:-2.9398746888877327, loss:0.47676894858623375\n",
            "Epoch:388, w1:4.981322226114558, w2:1.4784805094584417, bias:-2.9432651852771987, loss:0.4766241401747911\n",
            "Epoch:389, w1:4.989097918187526, w2:1.4787272467065693, bias:-2.9466504377143954, loss:0.47647981472400597\n",
            "Epoch:390, w1:4.9968604466711986, w2:1.4789741680202855, bias:-2.950030459167765, loss:0.4763359703527721\n",
            "Epoch:391, w1:5.004609840233698, w2:1.4792212747403999, bias:-2.9534052625292757, loss:0.47619260518822554\n",
            "Epoch:392, w1:5.012346127485935, w2:1.479468568142561, bias:-2.956774860615398, loss:0.4760497173657068\n",
            "Epoch:393, w1:5.020069336981415, w2:1.4797160494385848, bias:-2.960139266168064, loss:0.47590730502872175\n",
            "Epoch:394, w1:5.0277794972160565, w2:1.4799637197777593, bias:-2.963498491855614, loss:0.4757653663289052\n",
            "Epoch:395, w1:5.035476636628016, w2:1.480211580248126, bias:-2.9668525502737246, loss:0.47562389942598016\n",
            "Epoch:396, w1:5.0431607835975125, w2:1.4804596318777385, bias:-2.9702014539463217, loss:0.47548290248772207\n",
            "Epoch:397, w1:5.050831966446665, w2:1.4807078756358987, bias:-2.9735452153264808, loss:0.4753423736899201\n",
            "Epoch:398, w1:5.058490213439337, w2:1.4809563124343696, bias:-2.9768838467973104, loss:0.47520231121633993\n",
            "Epoch:399, w1:5.066135552780978, w2:1.481204943128568, bias:-2.9802173606728224, loss:0.4750627132586862\n",
            "Epoch:400, w1:5.073768012618481, w2:1.4814537685187348, bias:-2.9835457691987872, loss:0.4749235780165659\n",
            "Epoch:401, w1:5.0813876210400375, w2:1.481702789351084, bias:-2.986869084553576, loss:0.47478490369745074\n",
            "Epoch:402, w1:5.088994406075004, w2:1.4819520063189318, bias:-2.990187318848989, loss:0.4746466885166407\n",
            "Epoch:403, w1:5.096588395693771, w2:1.4822014200638058, bias:-2.9935004841310686, loss:0.4745089306972278\n",
            "Epoch:404, w1:5.104169617807636, w2:1.4824510311765329, bias:-2.9968085923809014, loss:0.4743716284700588\n",
            "Epoch:405, w1:5.111738100268687, w2:1.4827008401983075, bias:-3.000111655515407, loss:0.47423478007369985\n",
            "Epoch:406, w1:5.119293870869686, w2:1.4829508476217428, bias:-3.003409685388113, loss:0.47409838375439983\n",
            "Epoch:407, w1:5.126836957343958, w2:1.4832010538919005, bias:-3.0067026937899186, loss:0.47396243776605423\n",
            "Epoch:408, w1:5.13436738736529, w2:1.483451459407303, bias:-3.0099906924498443, loss:0.47382694037017076\n",
            "Epoch:409, w1:5.141885188547829, w2:1.4837020645209276, bias:-3.0132736930357704, loss:0.4736918898358317\n",
            "Epoch:410, w1:5.149390388445986, w2:1.4839528695411823, bias:-3.016551707155165, loss:0.4735572844396607\n",
            "Epoch:411, w1:5.1568830145543485, w2:1.4842038747328645, bias:-3.019824746355796, loss:0.47342312246578616\n",
            "Epoch:412, w1:5.1643630943075935, w2:1.4844550803181014, bias:-3.023092822126438, loss:0.473289402205806\n",
            "Epoch:413, w1:5.171830655080407, w2:1.4847064864772743, bias:-3.026355945897562, loss:0.4731561219587544\n",
            "Epoch:414, w1:5.179285724187406, w2:1.4849580933499258, bias:-3.0296141290420167, loss:0.4730232800310651\n",
            "Epoch:415, w1:5.1867283288830714, w2:1.4852099010356508, bias:-3.032867382875698, loss:0.4728908747365383\n",
            "Epoch:416, w1:5.1941584963616725, w2:1.4854619095949704, bias:-3.0361157186582095, loss:0.4727589043963054\n",
            "Epoch:417, w1:5.20157625375721, w2:1.4857141190501917, bias:-3.039359147593511, loss:0.47262736733879557\n",
            "Epoch:418, w1:5.208981628143355, w2:1.4859665293862503, bias:-3.042597680830555, loss:0.47249626189970095\n",
            "Epoch:419, w1:5.2163746465333904, w2:1.4862191405515386, bias:-3.0458313294639168, loss:0.47236558642194326\n",
            "Epoch:420, w1:5.223755335880164, w2:1.4864719524587182, bias:-3.049060104534412, loss:0.4722353392556396\n",
            "Epoch:421, w1:5.23112372307604, w2:1.4867249649855185, bias:-3.0522840170297045, loss:0.47210551875806955\n",
            "Epoch:422, w1:5.238479834952853, w2:1.4869781779755196, bias:-3.0555030778849046, loss:0.47197612329364064\n",
            "Epoch:423, w1:5.245823698281873, w2:1.487231591238922, bias:-3.058717297983159, loss:0.47184715123385707\n",
            "Epoch:424, w1:5.2531553397737625, w2:1.4874852045533018, bias:-3.06192668815623, loss:0.47171860095728396\n",
            "Epoch:425, w1:5.260474786078553, w2:1.4877390176643517, bias:-3.0651312591850655, loss:0.47159047084951683\n",
            "Epoch:426, w1:5.267782063785607, w2:1.4879930302866091, bias:-3.0683310218003608, loss:0.4714627593031471\n",
            "Epoch:427, w1:5.275077199423603, w2:1.4882472421041715, bias:-3.071525986683112, loss:0.4713354647177308\n",
            "Epoch:428, w1:5.282360219460504, w2:1.4885016527713963, bias:-3.0747161644651584, loss:0.47120858549975464\n",
            "Epoch:429, w1:5.289631150303543, w2:1.4887562619135914, bias:-3.0779015657297193, loss:0.4710821200626056\n",
            "Epoch:430, w1:5.296890018299211, w2:1.4890110691276899, bias:-3.0810822010119185, loss:0.4709560668265364\n",
            "Epoch:431, w1:5.304136849733242, w2:1.4892660739829142, bias:-3.0842580807993056, loss:0.47083042421863563\n",
            "Epoch:432, w1:5.311371670830603, w2:1.4895212760214276, bias:-3.0874292155323646, loss:0.47070519067279476\n",
            "Epoch:433, w1:5.318594507755492, w2:1.4897766747589736, bias:-3.0905956156050167, loss:0.47058036462967645\n",
            "Epoch:434, w1:5.325805386611334, w2:1.490032269685504, bias:-3.0937572913651152, loss:0.47045594453668327\n",
            "Epoch:435, w1:5.3330043334407815, w2:1.4902880602657946, bias:-3.096914253114931, loss:0.47033192884792624\n",
            "Epoch:436, w1:5.340191374225718, w2:1.4905440459400505, bias:-3.1000665111116343, loss:0.47020831602419394\n",
            "Epoch:437, w1:5.347366534887266, w2:1.4908002261244995, bias:-3.1032140755677626, loss:0.47008510453292013\n",
            "Epoch:438, w1:5.354529841285795, w2:1.4910566002119747, bias:-3.106356956651689, loss:0.4699622928481542\n",
            "Epoch:439, w1:5.361681319220934, w2:1.4913131675724873, bias:-3.1094951644880764, loss:0.4698398794505294\n",
            "Epoch:440, w1:5.3688209944315854, w2:1.491569927553787, bias:-3.112628709158329, loss:0.46971786282723293\n",
            "Epoch:441, w1:5.375948892595946, w2:1.4918268794819136, bias:-3.115757600701035, loss:0.4695962414719745\n",
            "Epoch:442, w1:5.383065039331523, w2:1.4920840226617376, bias:-3.1188818491124026, loss:0.46947501388495694\n",
            "Epoch:443, w1:5.39016946019516, w2:1.4923413563774908, bias:-3.1220014643466896, loss:0.46935417857284495\n",
            "Epoch:444, w1:5.397262180683062, w2:1.4925988798932874, bias:-3.125116456316626, loss:0.4692337340487356\n",
            "Epoch:445, w1:5.404343226230821, w2:1.4928565924536352, bias:-3.128226834893831, loss:0.46911367883212834\n",
            "Epoch:446, w1:5.411412622213447, w2:1.4931144932839375, bias:-3.1313326099092222, loss:0.468994011448895\n",
            "Epoch:447, w1:5.418470393945405, w2:1.493372581590985, bias:-3.134433791153419, loss:0.46887473043125\n",
            "Epoch:448, w1:5.425516566680645, w2:1.4936308565634393, bias:-3.1375303883771406, loss:0.468755834317721\n",
            "Epoch:449, w1:5.432551165612639, w2:1.4938893173723067, bias:-3.140622411291598, loss:0.46863732165311983\n",
            "Epoch:450, w1:5.439574215874427, w2:1.4941479631714039, bias:-3.143709869568878, loss:0.46851919098851263\n",
            "Epoch:451, w1:5.446585742538652, w2:1.4944067930978144, bias:-3.146792772842323, loss:0.4684014408811906\n",
            "Epoch:452, w1:5.453585770617606, w2:1.4946658062723366, bias:-3.1498711307069054, loss:0.46828406989464183\n",
            "Epoch:453, w1:5.460574325063277, w2:1.4949250017999232, bias:-3.1529449527195945, loss:0.4681670765985217\n",
            "Epoch:454, w1:5.467551430767399, w2:1.4951843787701125, bias:-3.1560142483997207, loss:0.46805045956862446\n",
            "Epoch:455, w1:5.4745171125614975, w2:1.4954439362574516, bias:-3.15907902722933, loss:0.467934217386855\n",
            "Epoch:456, w1:5.481471395216946, w2:1.4957036733219125, bias:-3.1621392986535377, loss:0.4678183486411991\n",
            "Epoch:457, w1:5.488414303445018, w2:1.495963589009298, bias:-3.1651950720808735, loss:0.4677028519256972\n",
            "Epoch:458, w1:5.495345861896944, w2:1.4962236823516426, bias:-3.1682463568836234, loss:0.46758772584041425\n",
            "Epoch:459, w1:5.50226609516397, w2:1.4964839523676043, bias:-3.1712931623981646, loss:0.46747296899141255\n",
            "Epoch:460, w1:5.509175027777413, w2:1.4967443980628492, bias:-3.174335497925297, loss:0.46735857999072405\n",
            "Epoch:461, w1:5.516072684208731, w2:1.497005018430429, bias:-3.177373372730569, loss:0.4672445574563223\n",
            "Epoch:462, w1:5.5229590888695785, w2:1.4972658124511518, bias:-3.180406796044598, loss:0.46713090001209406\n",
            "Epoch:463, w1:5.529834266111876, w2:1.497526779093944, bias:-3.1834357770633877, loss:0.4670176062878136\n",
            "Epoch:464, w1:5.536698240227874, w2:1.4977879173162079, bias:-3.1864603249486394, loss:0.46690467491911325\n",
            "Epoch:465, w1:5.543551035450226, w2:1.4980492260641707, bias:-3.1894804488280575, loss:0.4667921045474577\n",
            "Epoch:466, w1:5.550392675952051, w2:1.498310704273227, bias:-3.1924961577956537, loss:0.466679893820116\n",
            "Epoch:467, w1:5.557223185847014, w2:1.498572350868276, bias:-3.1955074609120433, loss:0.4665680413901347\n",
            "Epoch:468, w1:5.564042589189392, w2:1.4988341647640497, bias:-3.1985143672047407, loss:0.4664565459163113\n",
            "Epoch:469, w1:5.570850909974154, w2:1.499096144865438, bias:-3.2015168856684464, loss:0.4663454060631675\n",
            "Epoch:470, w1:5.577648172137033, w2:1.4993582900678055, bias:-3.204515025265333, loss:0.4662346205009221\n",
            "Epoch:471, w1:5.584434399554606, w2:1.4996205992573017, bias:-3.2075087949253263, loss:0.46612418790546484\n",
            "Epoch:472, w1:5.591209616044375, w2:1.4998830713111675, bias:-3.21049820354638, loss:0.46601410695832973\n",
            "Epoch:473, w1:5.597973845364841, w2:1.5001457050980334, bias:-3.213483259994751, loss:0.46590437634666954\n",
            "Epoch:474, w1:5.604727111215594, w2:1.5004084994782132, bias:-3.2164639731052667, loss:0.4657949947632291\n",
            "Epoch:475, w1:5.61146943723739, w2:1.5006714533039924, bias:-3.219440351681588, loss:0.46568596090631914\n",
            "Epoch:476, w1:5.61820084701224, w2:1.5009345654199093, bias:-3.2224124044964735, loss:0.46557727347979116\n",
            "Epoch:477, w1:5.62492136406349, w2:1.5011978346630326, bias:-3.225380140292034, loss:0.4654689311930102\n",
            "Epoch:478, w1:5.631631011855916, w2:1.5014612598632315, bias:-3.2283435677799863, loss:0.46536093276083174\n",
            "Epoch:479, w1:5.638329813795804, w2:1.5017248398434433, bias:-3.2313026956419044, loss:0.4652532769035734\n",
            "Epoch:480, w1:5.645017793231045, w2:1.5019885734199325, bias:-3.2342575325294636, loss:0.46514596234699146\n",
            "Epoch:481, w1:5.651694973451223, w2:1.5022524594025475, bias:-3.237208087064684, loss:0.46503898782225495\n",
            "Epoch:482, w1:5.658361377687709, w2:1.5025164965949704, bias:-3.2401543678401703, loss:0.4649323520659203\n",
            "Epoch:483, w1:5.66501702911375, w2:1.5027806837949638, bias:-3.2430963834193456, loss:0.4648260538199071\n",
            "Epoch:484, w1:5.671661950844569, w2:1.5030450197946104, bias:-3.246034142336686, loss:0.46472009183147184\n",
            "Epoch:485, w1:5.678296165937451, w2:1.50330950338055, bias:-3.248967653097947, loss:0.4646144648531845\n",
            "Epoch:486, w1:5.684919697391849, w2:1.5035741333342099, bias:-3.251896924180393, loss:0.4645091716429036\n",
            "Epoch:487, w1:5.691532568149474, w2:1.5038389084320325, bias:-3.254821964033016, loss:0.4644042109637507\n",
            "Epoch:488, w1:5.698134801094395, w2:1.5041038274456973, bias:-3.2577427810767565, loss:0.46429958158408713\n",
            "Epoch:489, w1:5.70472641905314, w2:1.5043688891423386, bias:-3.2606593837047217, loss:0.4641952822774892\n",
            "Epoch:490, w1:5.711307444794792, w2:1.504634092284759, bias:-3.2635717802823967, loss:0.46409131182272356\n",
            "Epoch:491, w1:5.717877901031092, w2:1.5048994356316387, bias:-3.2664799791478543, loss:0.4639876690037244\n",
            "Epoch:492, w1:5.724437810416543, w2:1.5051649179377404, bias:-3.269383988611965, loss:0.4638843526095679\n",
            "Epoch:493, w1:5.730987195548507, w2:1.50543053795411, bias:-3.2722838169585993, loss:0.46378136143444965\n",
            "Epoch:494, w1:5.7375260789673135, w2:1.5056962944282735, bias:-3.27517947244483, loss:0.4636786942776599\n",
            "Epoch:495, w1:5.744054483156361, w2:1.50596218610443, bias:-3.2780709633011322, loss:0.463576349943561\n",
            "Epoch:496, w1:5.750572430542225, w2:1.50622821172364, bias:-3.280958297731577, loss:0.46347432724156296\n",
            "Epoch:497, w1:5.757079943494758, w2:1.5064943700240117, bias:-3.2838414839140286, loss:0.4633726249861006\n",
            "Epoch:498, w1:5.763577044327202, w2:1.5067606597408805, bias:-3.2867205300003306, loss:0.4632712419966097\n",
            "Epoch:499, w1:5.770063755296294, w2:1.5070270796069878, bias:-3.289595444116498, loss:0.463170177097505\n",
            "Epoch:500, w1:5.776540098602374, w2:1.5072936283526548, bias:-3.292466234362901, loss:0.4630694291181555\n"
          ],
          "name": "stdout"
        },
        {
          "output_type": "execute_result",
          "data": {
            "text/plain": [
              "(5.776540098602374, 1.5072936283526548, -3.292466234362901)"
            ]
          },
          "metadata": {
            "tags": []
          },
          "execution_count": 27
        }
      ]
    },
    {
      "cell_type": "code",
      "metadata": {
        "id": "naNM34lQok8R",
        "outputId": "0b578a3d-8e9e-40bd-e621-818d5ec8c5a6",
        "colab": {
          "base_uri": "https://localhost:8080/"
        }
      },
      "source": [
        "coef, intercept"
      ],
      "execution_count": 28,
      "outputs": [
        {
          "output_type": "execute_result",
          "data": {
            "text/plain": [
              "(array([[0.9900094],\n",
              "        [0.9900079]], dtype=float32), array([-0.00999473], dtype=float32))"
            ]
          },
          "metadata": {
            "tags": []
          },
          "execution_count": 28
        }
      ]
    },
    {
      "cell_type": "code",
      "metadata": {
        "id": "TSLGNAPDok5F"
      },
      "source": [
        ""
      ],
      "execution_count": null,
      "outputs": []
    },
    {
      "cell_type": "code",
      "metadata": {
        "id": "zPqVYhWlok2Z"
      },
      "source": [
        ""
      ],
      "execution_count": null,
      "outputs": []
    },
    {
      "cell_type": "code",
      "metadata": {
        "id": "PohDyjQAokza"
      },
      "source": [
        ""
      ],
      "execution_count": null,
      "outputs": []
    },
    {
      "cell_type": "code",
      "metadata": {
        "id": "ocDVum97okwb"
      },
      "source": [
        ""
      ],
      "execution_count": null,
      "outputs": []
    }
  ]
}